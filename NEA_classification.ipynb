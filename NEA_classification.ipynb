{
 "cells": [
  {
   "cell_type": "code",
   "execution_count": 282,
   "id": "68d2d686",
   "metadata": {},
   "outputs": [
    {
     "data": {
      "text/html": [
       "<div>\n",
       "<style scoped>\n",
       "    .dataframe tbody tr th:only-of-type {\n",
       "        vertical-align: middle;\n",
       "    }\n",
       "\n",
       "    .dataframe tbody tr th {\n",
       "        vertical-align: top;\n",
       "    }\n",
       "\n",
       "    .dataframe thead th {\n",
       "        text-align: right;\n",
       "    }\n",
       "</style>\n",
       "<table border=\"1\" class=\"dataframe\">\n",
       "  <thead>\n",
       "    <tr style=\"text-align: right;\">\n",
       "      <th></th>\n",
       "      <th>Organization Name</th>\n",
       "      <th>Popular Name</th>\n",
       "      <th>Discipline / Field</th>\n",
       "      <th>Category</th>\n",
       "      <th>Application Number</th>\n",
       "      <th>City</th>\n",
       "      <th>State</th>\n",
       "      <th>Zip</th>\n",
       "      <th>Project Description</th>\n",
       "      <th>Fiscal Year</th>\n",
       "      <th>Congressional District</th>\n",
       "      <th>Grant Amount</th>\n",
       "      <th>Grant From Date</th>\n",
       "      <th>Grant To Date</th>\n",
       "    </tr>\n",
       "  </thead>\n",
       "  <tbody>\n",
       "    <tr>\n",
       "      <th>0</th>\n",
       "      <td>Artists for Humanity, Inc.</td>\n",
       "      <td>aka AFH</td>\n",
       "      <td>Visual Arts</td>\n",
       "      <td>Grants for Arts Projects</td>\n",
       "      <td>1895283-41-22</td>\n",
       "      <td>Boston</td>\n",
       "      <td>MA</td>\n",
       "      <td>02127-1112</td>\n",
       "      <td>Purpose: To support a painting and photography...</td>\n",
       "      <td>2022</td>\n",
       "      <td>8</td>\n",
       "      <td>20000.0</td>\n",
       "      <td>2022-06-01</td>\n",
       "      <td>2023-05-31</td>\n",
       "    </tr>\n",
       "    <tr>\n",
       "      <th>1</th>\n",
       "      <td>Artists for Humanity, Inc.</td>\n",
       "      <td>aka AFH</td>\n",
       "      <td>Visual Arts</td>\n",
       "      <td>Grants for Arts Projects</td>\n",
       "      <td>1884032-41-21</td>\n",
       "      <td>Boston</td>\n",
       "      <td>MA</td>\n",
       "      <td>02127-1112</td>\n",
       "      <td>To support a painting, photography, and video ...</td>\n",
       "      <td>2021</td>\n",
       "      <td>8</td>\n",
       "      <td>30000.0</td>\n",
       "      <td>2021-06-01</td>\n",
       "      <td>2022-05-31</td>\n",
       "    </tr>\n",
       "    <tr>\n",
       "      <th>2</th>\n",
       "      <td>Artists for Humanity, Inc.</td>\n",
       "      <td>aka AFH</td>\n",
       "      <td>Visual Arts</td>\n",
       "      <td>Art Works</td>\n",
       "      <td>1861577-41-20</td>\n",
       "      <td>Boston</td>\n",
       "      <td>MA</td>\n",
       "      <td>02127-1112</td>\n",
       "      <td>To support a painting, photography, and video ...</td>\n",
       "      <td>2020</td>\n",
       "      <td>8</td>\n",
       "      <td>25000.0</td>\n",
       "      <td>2020-06-01</td>\n",
       "      <td>2021-05-31</td>\n",
       "    </tr>\n",
       "    <tr>\n",
       "      <th>3</th>\n",
       "      <td>Artists for Humanity, Inc.</td>\n",
       "      <td>aka AFH</td>\n",
       "      <td>Visual Arts</td>\n",
       "      <td>Art Works</td>\n",
       "      <td>1808125-41-18</td>\n",
       "      <td>Boston</td>\n",
       "      <td>MA</td>\n",
       "      <td>02127-1112</td>\n",
       "      <td>To support a painting, photography, and video ...</td>\n",
       "      <td>2018</td>\n",
       "      <td>8</td>\n",
       "      <td>40000.0</td>\n",
       "      <td>2018-06-01</td>\n",
       "      <td>2019-05-31</td>\n",
       "    </tr>\n",
       "    <tr>\n",
       "      <th>4</th>\n",
       "      <td>Artists for Humanity, Inc.</td>\n",
       "      <td>aka AFH</td>\n",
       "      <td>Visual Arts</td>\n",
       "      <td>Art Works</td>\n",
       "      <td>17-4100-7101</td>\n",
       "      <td>Boston</td>\n",
       "      <td>MA</td>\n",
       "      <td>02127-1112</td>\n",
       "      <td>To support a painting, photography, and video ...</td>\n",
       "      <td>2017</td>\n",
       "      <td>8</td>\n",
       "      <td>25000.0</td>\n",
       "      <td>2017-07-01</td>\n",
       "      <td>2018-06-30</td>\n",
       "    </tr>\n",
       "  </tbody>\n",
       "</table>\n",
       "</div>"
      ],
      "text/plain": [
       "            Organization Name Popular Name Discipline / Field  \\\n",
       "0  Artists for Humanity, Inc.      aka AFH        Visual Arts   \n",
       "1  Artists for Humanity, Inc.      aka AFH        Visual Arts   \n",
       "2  Artists for Humanity, Inc.      aka AFH        Visual Arts   \n",
       "3  Artists for Humanity, Inc.      aka AFH        Visual Arts   \n",
       "4  Artists for Humanity, Inc.      aka AFH        Visual Arts   \n",
       "\n",
       "                   Category Application Number    City State         Zip  \\\n",
       "0  Grants for Arts Projects      1895283-41-22  Boston    MA  02127-1112   \n",
       "1  Grants for Arts Projects      1884032-41-21  Boston    MA  02127-1112   \n",
       "2                 Art Works      1861577-41-20  Boston    MA  02127-1112   \n",
       "3                 Art Works      1808125-41-18  Boston    MA  02127-1112   \n",
       "4                 Art Works       17-4100-7101  Boston    MA  02127-1112   \n",
       "\n",
       "                                 Project Description  Fiscal Year  \\\n",
       "0  Purpose: To support a painting and photography...         2022   \n",
       "1  To support a painting, photography, and video ...         2021   \n",
       "2  To support a painting, photography, and video ...         2020   \n",
       "3  To support a painting, photography, and video ...         2018   \n",
       "4  To support a painting, photography, and video ...         2017   \n",
       "\n",
       "   Congressional District  Grant Amount Grant From Date Grant To Date  \n",
       "0                       8       20000.0      2022-06-01    2023-05-31  \n",
       "1                       8       30000.0      2021-06-01    2022-05-31  \n",
       "2                       8       25000.0      2020-06-01    2021-05-31  \n",
       "3                       8       40000.0      2018-06-01    2019-05-31  \n",
       "4                       8       25000.0      2017-07-01    2018-06-30  "
      ]
     },
     "execution_count": 282,
     "metadata": {},
     "output_type": "execute_result"
    }
   ],
   "source": [
    "import pandas as pd\n",
    "import os\n",
    "import matplotlib.pyplot as mpl\n",
    "import numpy as np\n",
    "import seaborn as sns\n",
    "\n",
    "os.chdir(\"/Users/margaretdemchak/Desktop/DA_401/NEA_grant_data\")\n",
    "boston_nea = pd.read_excel('Boston_grant.xlsx')\n",
    "cbus_nea = pd.read_excel('Columbus_grant.xlsx')\n",
    "dallas_nea = pd.read_excel('Dallas_grant.xlsx')\n",
    "indy_nea = pd.read_excel('Indy_grant.xlsx')\n",
    "nyc_nea = pd.read_excel('NYC_grant.xlsx')\n",
    "sanfran_nea = pd.read_excel('SanFran_grant.xlsx')\n",
    "#len(boston_nea)\n",
    "boston_nea.head(5)"
   ]
  },
  {
   "cell_type": "code",
   "execution_count": 283,
   "id": "ccad0f2b",
   "metadata": {},
   "outputs": [],
   "source": [
    "#for all city df '.0' from the year and grant amount\n",
    "def tidy_dfs(dataframes):\n",
    "    for df in dataframes:\n",
    "        # Replace \n",
    "        df['Fiscal Year']=df['Fiscal Year'].astype(str).str.replace('.0', ' ', regex=False)\n",
    "        df['Grant Amount']=df['Grant Amount'].astype(str).str.replace('.0', ' ', regex=False)\n",
    "    return dataframes\n",
    "\n",
    "boston_nea_tidy,cbus_nea_tidy, dallas_nea_tidy, indy_nea_tidy, nyc_nea_tidy, sanfran_nea_tidy = tidy_dfs([boston_nea,cbus_nea, dallas_nea, indy_nea, nyc_nea, sanfran_nea])\n"
   ]
  },
  {
   "cell_type": "code",
   "execution_count": 284,
   "id": "de68b3e0",
   "metadata": {},
   "outputs": [],
   "source": [
    "#Remove the rows that have no project description \n",
    "boston_nea_desript=boston_nea_tidy.dropna(subset=['Project Description']) #removed 3 rows out of 786\n",
    "cbus_nea_desript=cbus_nea_tidy.dropna(subset=['Project Description']) #removed 2 rows out of 204\n",
    "dallas_nea_desript=dallas_nea_tidy.dropna(subset=['Project Description']) #removed 1 row out of 309\n",
    "indy_nea_desript=indy_nea_tidy.dropna(subset=['Project Description']) #removed 2 rows out of 244\n",
    "nyc_nea_desript=nyc_nea_tidy.dropna(subset=['Project Description']) #removed 65 rows out of 7939\n",
    "sanfran_nea_desript=sanfran_nea_tidy.dropna(subset=['Project Description']) #removed 21 rows out of 2318"
   ]
  },
  {
   "cell_type": "code",
   "execution_count": 285,
   "id": "93c3315c",
   "metadata": {},
   "outputs": [],
   "source": [
    "def descript_to_list(dataframes):\n",
    "    project_desc_lists = []\n",
    "    for df in dataframes:\n",
    "        project_desc_lists.append(df['Project Description'].tolist())\n",
    "    return project_desc_lists\n",
    "        \n",
    "boston_descript_list,cbus_descript_list, dallas_descript_list,indy_descript_list,nyc_descript_list,sanfran_descript_list = descript_to_list([boston_nea_desript,cbus_nea_desript, dallas_nea_desript,indy_nea_desript,nyc_nea_desript,sanfran_nea_desript])\n"
   ]
  },
  {
   "cell_type": "code",
   "execution_count": 286,
   "id": "422c413f",
   "metadata": {},
   "outputs": [
    {
     "name": "stderr",
     "output_type": "stream",
     "text": [
      "[nltk_data] Downloading package stopwords to\n",
      "[nltk_data]     /Users/margaretdemchak/nltk_data...\n",
      "[nltk_data]   Package stopwords is already up-to-date!\n"
     ]
    }
   ],
   "source": [
    "from sklearn.feature_extraction.text import  TfidfVectorizer\n",
    "import nltk\n",
    "nltk.download('stopwords')\n",
    "from nltk.corpus import stopwords"
   ]
  },
  {
   "cell_type": "code",
   "execution_count": 287,
   "id": "6c6e7074",
   "metadata": {},
   "outputs": [],
   "source": [
    "#create an instance to tokenize the text and apply the TF-IDF transformation\n",
    "#def get_transformed_docs(lists):\n",
    "    #vectorizer = TfidfVectorizer(max_df=.95,\n",
    "                               #  min_df=3, \n",
    "                               #  stop_words=stopwords.words('english'), \n",
    "                              #   use_idf=True, \n",
    "                              #   norm='l2')\n",
    "    #transformed_docs_list = []\n",
    "   # for description_list in lists:\n",
    "    #    transformed_docs = vectorizer.fit_transform(description_list)\n",
    "    #    transformed_docs_list.append(transformed_docs)\n",
    "   # return transformed_docs_list\n",
    "\n",
    "#boston_tfidf_transformed,cbus_tfidf_transformed, dallas_tfidf_transformed,indy_tfidf_transformed,nyc_tfidf_transformed,sanfran_tfidf_transformed=get_transformed_docs([boston_descript_list,cbus_descript_list, dallas_descript_list,indy_descript_list,nyc_descript_list,sanfran_descript_list])\n"
   ]
  },
  {
   "cell_type": "code",
   "execution_count": 288,
   "id": "7dee2824",
   "metadata": {},
   "outputs": [],
   "source": [
    "#def get_transformed_docs(lists):\n",
    "    #vectorizer = TfidfVectorizer(max_df=.95,\n",
    "                 #                min_df=3, \n",
    "                 #                stop_words=stopwords.words('english'), \n",
    "                 #                use_idf=True, \n",
    "                  #               norm='l2')\n",
    "    #transformed_docs_list = []\n",
    "    #for description_list in lists:\n",
    "     #   transformed_docs = vectorizer.fit_transform(description_list)\n",
    "     #   transformed_docs_list.append(transformed_docs)\n",
    "   # return transformed_docs_list\n"
   ]
  },
  {
   "cell_type": "code",
   "execution_count": 289,
   "id": "c1f9600c",
   "metadata": {},
   "outputs": [
    {
     "name": "stderr",
     "output_type": "stream",
     "text": [
      "/opt/anaconda3/lib/python3.7/site-packages/sklearn/utils/deprecation.py:87: FutureWarning: Function get_feature_names is deprecated; get_feature_names is deprecated in 1.0 and will be removed in 1.2. Please use get_feature_names_out instead.\n",
      "  warnings.warn(msg, category=FutureWarning)\n"
     ]
    },
    {
     "data": {
      "text/plain": [
       "4531"
      ]
     },
     "execution_count": 289,
     "metadata": {},
     "output_type": "execute_result"
    }
   ],
   "source": [
    "#Use scikit-learn's TfidfVectorizer class to set up a sparse matrix of TF-IDF features\n",
    "boston_vectorizer = TfidfVectorizer(max_df=.95,\n",
    "                             min_df=1, \n",
    "                             stop_words=stopwords.words('english'), \n",
    "                             use_idf=True, \n",
    "                             norm='l2')\n",
    "boston_tfidf_transformed = boston_vectorizer.fit_transform(boston_descript_list)\n",
    "len(boston_vectorizer.get_feature_names())"
   ]
  },
  {
   "cell_type": "code",
   "execution_count": 290,
   "id": "4e265ac3",
   "metadata": {},
   "outputs": [
    {
     "data": {
      "text/plain": [
       "1865"
      ]
     },
     "execution_count": 290,
     "metadata": {},
     "output_type": "execute_result"
    }
   ],
   "source": [
    "cbus_vectorizer = TfidfVectorizer(max_df=.95,\n",
    "                             min_df=1, \n",
    "                             stop_words=stopwords.words('english'), \n",
    "                             use_idf=True, \n",
    "                             norm='l2')\n",
    "cbus_tfidf_transformed = cbus_vectorizer.fit_transform(cbus_descript_list)\n",
    "len(cbus_vectorizer.get_feature_names())"
   ]
  },
  {
   "cell_type": "code",
   "execution_count": 291,
   "id": "f5fa8bc2",
   "metadata": {},
   "outputs": [
    {
     "data": {
      "text/plain": [
       "3159"
      ]
     },
     "execution_count": 291,
     "metadata": {},
     "output_type": "execute_result"
    }
   ],
   "source": [
    "dallas_vectorizer = TfidfVectorizer(max_df=.95,\n",
    "                             min_df=1, \n",
    "                             stop_words=stopwords.words('english'), \n",
    "                             use_idf=True, \n",
    "                             norm='l2')\n",
    "dallas_tfidf_transformed = dallas_vectorizer.fit_transform(dallas_descript_list)\n",
    "len(dallas_vectorizer.get_feature_names())"
   ]
  },
  {
   "cell_type": "code",
   "execution_count": 292,
   "id": "d22b3a55",
   "metadata": {},
   "outputs": [
    {
     "data": {
      "text/plain": [
       "2263"
      ]
     },
     "execution_count": 292,
     "metadata": {},
     "output_type": "execute_result"
    }
   ],
   "source": [
    "indy_vectorizer = TfidfVectorizer(max_df=.95,\n",
    "                             min_df=1, \n",
    "                             stop_words=stopwords.words('english'), \n",
    "                             use_idf=True, \n",
    "                             norm='l2')\n",
    "indy_tfidf_transformed = indy_vectorizer.fit_transform(indy_descript_list)\n",
    "len(indy_vectorizer.get_feature_names())"
   ]
  },
  {
   "cell_type": "code",
   "execution_count": 293,
   "id": "11cf46de",
   "metadata": {},
   "outputs": [
    {
     "data": {
      "text/plain": [
       "17001"
      ]
     },
     "execution_count": 293,
     "metadata": {},
     "output_type": "execute_result"
    }
   ],
   "source": [
    "nyc_vectorizer = TfidfVectorizer(max_df=.95,\n",
    "                             min_df=1, \n",
    "                             stop_words=stopwords.words('english'), \n",
    "                             use_idf=True, \n",
    "                             norm='l2')\n",
    "nyc_tfidf_transformed = nyc_vectorizer.fit_transform(nyc_descript_list)\n",
    "len(nyc_vectorizer.get_feature_names())"
   ]
  },
  {
   "cell_type": "code",
   "execution_count": 294,
   "id": "846e1e3f",
   "metadata": {},
   "outputs": [
    {
     "data": {
      "text/plain": [
       "9022"
      ]
     },
     "execution_count": 294,
     "metadata": {},
     "output_type": "execute_result"
    }
   ],
   "source": [
    "sanfran_vectorizer = TfidfVectorizer(max_df=.95,\n",
    "                             min_df=1, \n",
    "                             stop_words=stopwords.words('english'), \n",
    "                             use_idf=True, \n",
    "                             norm='l2')\n",
    "sanfran_tfidf_transformed = sanfran_vectorizer.fit_transform(sanfran_descript_list)\n",
    "len(sanfran_vectorizer.get_feature_names())"
   ]
  },
  {
   "cell_type": "code",
   "execution_count": 295,
   "id": "cb86e46f",
   "metadata": {},
   "outputs": [],
   "source": [
    "boston_transformed_as_array = boston_tfidf_transformed.toarray()\n",
    "cbus_transformed_as_array = cbus_tfidf_transformed.toarray()\n",
    "dallas_transformed_as_array = dallas_tfidf_transformed.toarray()\n",
    "indy_transformed_as_array = indy_tfidf_transformed.toarray()\n",
    "nyc_transformed_as_array =nyc_tfidf_transformed.toarray()\n",
    "sanfran_transformed_as_array = sanfran_tfidf_transformed.toarray()"
   ]
  },
  {
   "cell_type": "code",
   "execution_count": 296,
   "id": "6a57ab4c",
   "metadata": {},
   "outputs": [],
   "source": [
    "#def get_tfidf_dataframes(transformed_docs_list):\n",
    "    #all_dfs = []\n",
    "    #for doc in transformed_docs_list:\n",
    "        #feature_names = vectorizer.get_feature_names()\n",
    "        #tf_idf_tuples = []\n",
    "        #for counter, doc in enumerate(transformed_documents_as_array):\n",
    "          #  tf_idf_tuples.append(list(zip(feature_names, doc)))\n",
    "           # one_doc_as_df = pd.DataFrame([item for sublist in tf_idf_tuples for item in sublist], columns=['term', 'score']).sort_values(by='score', ascending=False).reset_index(drop=True)\n",
    "           # all_dfs.append(one_doc_as_df)\n",
    "    #return all_dfs"
   ]
  },
  {
   "cell_type": "code",
   "execution_count": 297,
   "id": "dbcac1ca",
   "metadata": {},
   "outputs": [],
   "source": [
    "#boston, cbus, dallas= get_tfidf_dataframes([boston_transformed_as_array,cbus_transformed_as_array, dallas_transformed_as_array])"
   ]
  },
  {
   "cell_type": "code",
   "execution_count": 298,
   "id": "2c37e0e9",
   "metadata": {
    "scrolled": false
   },
   "outputs": [],
   "source": [
    "boston_tfidf_df=[]\n",
    "for counter, doc in enumerate(boston_transformed_as_array): #loop each item in transformed_documents_as_array, using enumerate to keep track of the current position\n",
    "    # construct a dataframe\n",
    "    tf_idf_tuples = list(zip(boston_vectorizer.get_feature_names(), doc)) #uses tuples\n",
    "    one_doc_as_df = pd.DataFrame.from_records(tf_idf_tuples,columns=['term', 'score']).sort_values(by='score', ascending=False).reset_index(drop=True)\n",
    "    boston_tfidf_df.append(one_doc_as_df)\n",
    "    \n",
    "#boston_tfidf_df[1]"
   ]
  },
  {
   "cell_type": "code",
   "execution_count": 299,
   "id": "1b2e3141",
   "metadata": {
    "scrolled": true
   },
   "outputs": [],
   "source": [
    "cbus_tfidf_df=[]\n",
    "for counter, doc in enumerate(cbus_transformed_as_array): #loop each item in transformed_documents_as_array, using enumerate to keep track of the current position\n",
    "    # construct a dataframe\n",
    "    tf_idf_tuples = list(zip(cbus_vectorizer.get_feature_names(), doc)) #uses tuples\n",
    "    one_doc_as_df = pd.DataFrame.from_records(tf_idf_tuples,columns=['term', 'score']).sort_values(by='score', ascending=False).reset_index(drop=True)\n",
    "    cbus_tfidf_df.append(one_doc_as_df)\n",
    "#cbus_tfidf_df[1]"
   ]
  },
  {
   "cell_type": "code",
   "execution_count": 300,
   "id": "4e05547d",
   "metadata": {},
   "outputs": [],
   "source": [
    "dallas_tfidf_df=[]\n",
    "for counter, doc in enumerate(dallas_transformed_as_array): #loop each item in transformed_documents_as_array, using enumerate to keep track of the current position\n",
    "    # construct a dataframe\n",
    "    tf_idf_tuples = list(zip(dallas_vectorizer.get_feature_names(), doc)) #uses tuples\n",
    "    one_doc_as_df = pd.DataFrame.from_records(tf_idf_tuples,columns=['term', 'score']).sort_values(by='score', ascending=False).reset_index(drop=True)\n",
    "    dallas_tfidf_df.append(one_doc_as_df)\n",
    "    \n",
    "#dallas_tfidf_df[1]"
   ]
  },
  {
   "cell_type": "code",
   "execution_count": 301,
   "id": "d674cb9f",
   "metadata": {},
   "outputs": [],
   "source": [
    "indy_tfidf_df=[]\n",
    "for counter, doc in enumerate(indy_transformed_as_array): #loop each item in transformed_documents_as_array, using enumerate to keep track of the current position\n",
    "    # construct a dataframe\n",
    "    tf_idf_tuples = list(zip(indy_vectorizer.get_feature_names(), doc)) #uses tuples\n",
    "    one_doc_as_df = pd.DataFrame.from_records(tf_idf_tuples,columns=['term', 'score']).sort_values(by='score', ascending=False).reset_index(drop=True)\n",
    "    indy_tfidf_df.append(one_doc_as_df)\n",
    "    \n",
    "#indy_tfidf_df[1]"
   ]
  },
  {
   "cell_type": "code",
   "execution_count": 302,
   "id": "7711f853",
   "metadata": {},
   "outputs": [],
   "source": [
    "nyc_tfidf_df=[]\n",
    "for counter, doc in enumerate(nyc_transformed_as_array): #loop each item in transformed_documents_as_array, using enumerate to keep track of the current position\n",
    "    # construct a dataframe\n",
    "    tf_idf_tuples = list(zip(nyc_vectorizer.get_feature_names(), doc)) #uses tuples\n",
    "    one_doc_as_df = pd.DataFrame.from_records(tf_idf_tuples,columns=['term', 'score']).sort_values(by='score', ascending=False).reset_index(drop=True)\n",
    "    nyc_tfidf_df.append(one_doc_as_df)\n",
    "    \n",
    "#nyc_tfidf_df[1]"
   ]
  },
  {
   "cell_type": "code",
   "execution_count": 303,
   "id": "200f5b65",
   "metadata": {},
   "outputs": [],
   "source": [
    "sanfran_tfidf_df=[]\n",
    "for counter, doc in enumerate(sanfran_transformed_as_array): #loop each item in transformed_documents_as_array, using enumerate to keep track of the current position\n",
    "    # construct a dataframe\n",
    "    tf_idf_tuples = list(zip(sanfran_vectorizer.get_feature_names(), doc)) #uses tuples\n",
    "    one_doc_as_df = pd.DataFrame.from_records(tf_idf_tuples,columns=['term', 'score']).sort_values(by='score', ascending=False).reset_index(drop=True)\n",
    "    sanfran_tfidf_df.append(one_doc_as_df)\n",
    "    \n",
    "#sanfran_tfidf_df[1]"
   ]
  },
  {
   "cell_type": "code",
   "execution_count": 304,
   "id": "6159a0e1",
   "metadata": {
    "scrolled": true
   },
   "outputs": [],
   "source": [
    "#all_dfs=[]\n",
    "#for counter, doc in enumerate(transformed_documents_as_array): #loop each item in transformed_documents_as_array, using enumerate to keep track of the current position\n",
    "    # construct a dataframe\n",
    "   # tf_idf_tuples = list(zip(vectorizer.get_feature_names(), doc)) #uses tuples\n",
    "    #one_doc_as_df = pd.DataFrame.from_records(tf_idf_tuples,columns=['term', 'score']).sort_values(by='score', ascending=False).reset_index(drop=True)\n",
    "    #all_dfs.append(one_doc_as_df)\n",
    "    \n",
    "#all_dfs[1] "
   ]
  },
  {
   "cell_type": "code",
   "execution_count": 305,
   "id": "38e7ee81",
   "metadata": {},
   "outputs": [],
   "source": [
    "#keys= ['mural', 'sculpture', 'community', 'engagement', 'outdoor', 'public', 'communities', 'park']\n",
    "#tfidf_all = {}\n",
    "#for key in keys:\n",
    "    #tfidf_all[key]=[]\n",
    "\n",
    "#for key in keys:\n",
    "    #for i in all_dfs:\n",
    "        #this_score=i.loc[i['term']==key]['score'].iloc[0]\n",
    "        #tfidf_all[key].append(this_score)\n",
    "        \n",
    "#for key in keys:\n",
    "    #boston_nea_desript_nans[key]=tfidf_all[key]\n",
    "    \n",
    "#boston_nea_desript_nans.head(5)"
   ]
  },
  {
   "cell_type": "code",
   "execution_count": 306,
   "id": "132aa761",
   "metadata": {
    "scrolled": true
   },
   "outputs": [
    {
     "name": "stderr",
     "output_type": "stream",
     "text": [
      "/opt/anaconda3/lib/python3.7/site-packages/ipykernel_launcher.py:12: SettingWithCopyWarning: \n",
      "A value is trying to be set on a copy of a slice from a DataFrame.\n",
      "Try using .loc[row_indexer,col_indexer] = value instead\n",
      "\n",
      "See the caveats in the documentation: https://pandas.pydata.org/pandas-docs/stable/user_guide/indexing.html#returning-a-view-versus-a-copy\n",
      "  if sys.path[0] == \"\":\n"
     ]
    },
    {
     "data": {
      "text/html": [
       "<div>\n",
       "<style scoped>\n",
       "    .dataframe tbody tr th:only-of-type {\n",
       "        vertical-align: middle;\n",
       "    }\n",
       "\n",
       "    .dataframe tbody tr th {\n",
       "        vertical-align: top;\n",
       "    }\n",
       "\n",
       "    .dataframe thead th {\n",
       "        text-align: right;\n",
       "    }\n",
       "</style>\n",
       "<table border=\"1\" class=\"dataframe\">\n",
       "  <thead>\n",
       "    <tr style=\"text-align: right;\">\n",
       "      <th></th>\n",
       "      <th>Organization Name</th>\n",
       "      <th>Popular Name</th>\n",
       "      <th>Discipline / Field</th>\n",
       "      <th>Category</th>\n",
       "      <th>Application Number</th>\n",
       "      <th>City</th>\n",
       "      <th>State</th>\n",
       "      <th>Zip</th>\n",
       "      <th>Project Description</th>\n",
       "      <th>Fiscal Year</th>\n",
       "      <th>...</th>\n",
       "      <th>Grant Amount</th>\n",
       "      <th>Grant From Date</th>\n",
       "      <th>Grant To Date</th>\n",
       "      <th>mural</th>\n",
       "      <th>sculpture</th>\n",
       "      <th>community</th>\n",
       "      <th>outdoor</th>\n",
       "      <th>public</th>\n",
       "      <th>communities</th>\n",
       "      <th>park</th>\n",
       "    </tr>\n",
       "  </thead>\n",
       "  <tbody>\n",
       "    <tr>\n",
       "      <th>0</th>\n",
       "      <td>Artists for Humanity, Inc.</td>\n",
       "      <td>aka AFH</td>\n",
       "      <td>Visual Arts</td>\n",
       "      <td>Grants for Arts Projects</td>\n",
       "      <td>1895283-41-22</td>\n",
       "      <td>Boston</td>\n",
       "      <td>MA</td>\n",
       "      <td>02127-1112</td>\n",
       "      <td>Purpose: To support a painting and photography...</td>\n",
       "      <td>2022</td>\n",
       "      <td>...</td>\n",
       "      <td>20000</td>\n",
       "      <td>2022-06-01</td>\n",
       "      <td>2023-05-31</td>\n",
       "      <td>0.0</td>\n",
       "      <td>0.0</td>\n",
       "      <td>0.0</td>\n",
       "      <td>0.0</td>\n",
       "      <td>0.0</td>\n",
       "      <td>0.0</td>\n",
       "      <td>0.0</td>\n",
       "    </tr>\n",
       "    <tr>\n",
       "      <th>1</th>\n",
       "      <td>Artists for Humanity, Inc.</td>\n",
       "      <td>aka AFH</td>\n",
       "      <td>Visual Arts</td>\n",
       "      <td>Grants for Arts Projects</td>\n",
       "      <td>1884032-41-21</td>\n",
       "      <td>Boston</td>\n",
       "      <td>MA</td>\n",
       "      <td>02127-1112</td>\n",
       "      <td>To support a painting, photography, and video ...</td>\n",
       "      <td>2021</td>\n",
       "      <td>...</td>\n",
       "      <td>30000</td>\n",
       "      <td>2021-06-01</td>\n",
       "      <td>2022-05-31</td>\n",
       "      <td>0.0</td>\n",
       "      <td>0.0</td>\n",
       "      <td>0.0</td>\n",
       "      <td>0.0</td>\n",
       "      <td>0.0</td>\n",
       "      <td>0.0</td>\n",
       "      <td>0.0</td>\n",
       "    </tr>\n",
       "  </tbody>\n",
       "</table>\n",
       "<p>2 rows × 21 columns</p>\n",
       "</div>"
      ],
      "text/plain": [
       "            Organization Name Popular Name Discipline / Field  \\\n",
       "0  Artists for Humanity, Inc.      aka AFH        Visual Arts   \n",
       "1  Artists for Humanity, Inc.      aka AFH        Visual Arts   \n",
       "\n",
       "                   Category Application Number    City State         Zip  \\\n",
       "0  Grants for Arts Projects      1895283-41-22  Boston    MA  02127-1112   \n",
       "1  Grants for Arts Projects      1884032-41-21  Boston    MA  02127-1112   \n",
       "\n",
       "                                 Project Description Fiscal Year  ...  \\\n",
       "0  Purpose: To support a painting and photography...        2022  ...   \n",
       "1  To support a painting, photography, and video ...        2021  ...   \n",
       "\n",
       "   Grant Amount Grant From Date Grant To Date mural  sculpture  community  \\\n",
       "0        20000       2022-06-01    2023-05-31   0.0        0.0        0.0   \n",
       "1        30000       2021-06-01    2022-05-31   0.0        0.0        0.0   \n",
       "\n",
       "   outdoor  public  communities  park  \n",
       "0      0.0     0.0          0.0   0.0  \n",
       "1      0.0     0.0          0.0   0.0  \n",
       "\n",
       "[2 rows x 21 columns]"
      ]
     },
     "execution_count": 306,
     "metadata": {},
     "output_type": "execute_result"
    }
   ],
   "source": [
    "keys= ['mural', 'sculpture', 'community', 'outdoor', 'public', 'communities', 'park']\n",
    "tfidf_all = {}\n",
    "for key in keys:\n",
    "    tfidf_all[key]=[]\n",
    "\n",
    "for key in keys:\n",
    "    for df in boston_tfidf_df:\n",
    "        this_score=df.loc[df['term']==key]['score'].iloc[0]\n",
    "        tfidf_all[key].append(this_score)\n",
    "        \n",
    "for key in keys:\n",
    "    boston_nea_desript[key]=tfidf_all[key]\n",
    "    \n",
    "boston_nea_desript.head(2)"
   ]
  },
  {
   "cell_type": "code",
   "execution_count": 307,
   "id": "10f95e46",
   "metadata": {
    "scrolled": true
   },
   "outputs": [
    {
     "name": "stderr",
     "output_type": "stream",
     "text": [
      "/opt/anaconda3/lib/python3.7/site-packages/ipykernel_launcher.py:13: SettingWithCopyWarning: \n",
      "A value is trying to be set on a copy of a slice from a DataFrame.\n",
      "Try using .loc[row_indexer,col_indexer] = value instead\n",
      "\n",
      "See the caveats in the documentation: https://pandas.pydata.org/pandas-docs/stable/user_guide/indexing.html#returning-a-view-versus-a-copy\n",
      "  del sys.path[0]\n"
     ]
    },
    {
     "data": {
      "text/html": [
       "<div>\n",
       "<style scoped>\n",
       "    .dataframe tbody tr th:only-of-type {\n",
       "        vertical-align: middle;\n",
       "    }\n",
       "\n",
       "    .dataframe tbody tr th {\n",
       "        vertical-align: top;\n",
       "    }\n",
       "\n",
       "    .dataframe thead th {\n",
       "        text-align: right;\n",
       "    }\n",
       "</style>\n",
       "<table border=\"1\" class=\"dataframe\">\n",
       "  <thead>\n",
       "    <tr style=\"text-align: right;\">\n",
       "      <th></th>\n",
       "      <th>Organization Name</th>\n",
       "      <th>Popular Name</th>\n",
       "      <th>Discipline / Field</th>\n",
       "      <th>Category</th>\n",
       "      <th>Application Number</th>\n",
       "      <th>City</th>\n",
       "      <th>State</th>\n",
       "      <th>Zip</th>\n",
       "      <th>Project Description</th>\n",
       "      <th>Fiscal Year</th>\n",
       "      <th>...</th>\n",
       "      <th>Grant Amount</th>\n",
       "      <th>Grant From Date</th>\n",
       "      <th>Grant To Date</th>\n",
       "      <th>mural</th>\n",
       "      <th>sculpture</th>\n",
       "      <th>community</th>\n",
       "      <th>outdoor</th>\n",
       "      <th>public</th>\n",
       "      <th>communities</th>\n",
       "      <th>park</th>\n",
       "    </tr>\n",
       "  </thead>\n",
       "  <tbody>\n",
       "    <tr>\n",
       "      <th>0</th>\n",
       "      <td>Arts Foundation of Olde Towne</td>\n",
       "      <td>NaN</td>\n",
       "      <td>Challenge America</td>\n",
       "      <td>Challenge America Community Arts Development</td>\n",
       "      <td>02-7816-1439</td>\n",
       "      <td>Columbus</td>\n",
       "      <td>OH</td>\n",
       "      <td>43215-3978</td>\n",
       "      <td>To support a Community Arts Development projec...</td>\n",
       "      <td>2002</td>\n",
       "      <td>...</td>\n",
       "      <td>10000</td>\n",
       "      <td>2002-09-01</td>\n",
       "      <td>2003-08-31</td>\n",
       "      <td>0.0</td>\n",
       "      <td>0.0</td>\n",
       "      <td>0.309521</td>\n",
       "      <td>0.0</td>\n",
       "      <td>0.0</td>\n",
       "      <td>0.0</td>\n",
       "      <td>0.0</td>\n",
       "    </tr>\n",
       "    <tr>\n",
       "      <th>1</th>\n",
       "      <td>Arts Foundation of Olde Towne</td>\n",
       "      <td>NaN</td>\n",
       "      <td>Challenge America</td>\n",
       "      <td>Challenge America Community Arts Development</td>\n",
       "      <td>01-7816-1370</td>\n",
       "      <td>Columbus</td>\n",
       "      <td>OH</td>\n",
       "      <td>43215-3978</td>\n",
       "      <td>To support a Community Arts Development projec...</td>\n",
       "      <td>2001</td>\n",
       "      <td>...</td>\n",
       "      <td>10000</td>\n",
       "      <td>2001-09-01</td>\n",
       "      <td>2002-08-31</td>\n",
       "      <td>0.0</td>\n",
       "      <td>0.0</td>\n",
       "      <td>0.682322</td>\n",
       "      <td>0.0</td>\n",
       "      <td>0.0</td>\n",
       "      <td>0.0</td>\n",
       "      <td>0.0</td>\n",
       "    </tr>\n",
       "  </tbody>\n",
       "</table>\n",
       "<p>2 rows × 21 columns</p>\n",
       "</div>"
      ],
      "text/plain": [
       "               Organization Name Popular Name Discipline / Field  \\\n",
       "0  Arts Foundation of Olde Towne          NaN  Challenge America   \n",
       "1  Arts Foundation of Olde Towne          NaN  Challenge America   \n",
       "\n",
       "                                       Category Application Number      City  \\\n",
       "0  Challenge America Community Arts Development       02-7816-1439  Columbus   \n",
       "1  Challenge America Community Arts Development       01-7816-1370  Columbus   \n",
       "\n",
       "  State         Zip                                Project Description  \\\n",
       "0    OH  43215-3978  To support a Community Arts Development projec...   \n",
       "1    OH  43215-3978  To support a Community Arts Development projec...   \n",
       "\n",
       "  Fiscal Year  ...  Grant Amount Grant From Date Grant To Date mural  \\\n",
       "0        2002  ...         10000      2002-09-01    2003-08-31   0.0   \n",
       "1        2001  ...         10000      2001-09-01    2002-08-31   0.0   \n",
       "\n",
       "   sculpture  community  outdoor  public  communities  park  \n",
       "0        0.0   0.309521      0.0     0.0          0.0   0.0  \n",
       "1        0.0   0.682322      0.0     0.0          0.0   0.0  \n",
       "\n",
       "[2 rows x 21 columns]"
      ]
     },
     "execution_count": 307,
     "metadata": {},
     "output_type": "execute_result"
    }
   ],
   "source": [
    "keys= ['mural', 'sculpture', 'community', 'outdoor', 'public', 'communities', 'park']\n",
    "\n",
    "tfidf_all = {}\n",
    "for key in keys:\n",
    "    tfidf_all[key]=[]\n",
    "\n",
    "for key in keys:\n",
    "    for df in cbus_tfidf_df:\n",
    "            this_score=df.loc[df['term']==key]['score'].iloc[0]\n",
    "            tfidf_all[key].append(this_score)\n",
    "        \n",
    "for key in keys:\n",
    "    cbus_nea_desript[key]=tfidf_all[key]\n",
    "    \n",
    "cbus_nea_desript.head(2)"
   ]
  },
  {
   "cell_type": "code",
   "execution_count": 308,
   "id": "24f2e3b8",
   "metadata": {
    "scrolled": true
   },
   "outputs": [
    {
     "name": "stderr",
     "output_type": "stream",
     "text": [
      "/opt/anaconda3/lib/python3.7/site-packages/ipykernel_launcher.py:12: SettingWithCopyWarning: \n",
      "A value is trying to be set on a copy of a slice from a DataFrame.\n",
      "Try using .loc[row_indexer,col_indexer] = value instead\n",
      "\n",
      "See the caveats in the documentation: https://pandas.pydata.org/pandas-docs/stable/user_guide/indexing.html#returning-a-view-versus-a-copy\n",
      "  if sys.path[0] == \"\":\n"
     ]
    },
    {
     "data": {
      "text/html": [
       "<div>\n",
       "<style scoped>\n",
       "    .dataframe tbody tr th:only-of-type {\n",
       "        vertical-align: middle;\n",
       "    }\n",
       "\n",
       "    .dataframe tbody tr th {\n",
       "        vertical-align: top;\n",
       "    }\n",
       "\n",
       "    .dataframe thead th {\n",
       "        text-align: right;\n",
       "    }\n",
       "</style>\n",
       "<table border=\"1\" class=\"dataframe\">\n",
       "  <thead>\n",
       "    <tr style=\"text-align: right;\">\n",
       "      <th></th>\n",
       "      <th>Organization Name</th>\n",
       "      <th>Popular Name</th>\n",
       "      <th>Discipline / Field</th>\n",
       "      <th>Category</th>\n",
       "      <th>Application Number</th>\n",
       "      <th>City</th>\n",
       "      <th>State</th>\n",
       "      <th>Zip</th>\n",
       "      <th>Project Description</th>\n",
       "      <th>Fiscal Year</th>\n",
       "      <th>Congressional District</th>\n",
       "      <th>Grant Amount</th>\n",
       "      <th>Grant From Date</th>\n",
       "      <th>Grant To Date</th>\n",
       "      <th>sculpture</th>\n",
       "      <th>community</th>\n",
       "      <th>outdoor</th>\n",
       "      <th>public</th>\n",
       "      <th>communities</th>\n",
       "      <th>park</th>\n",
       "    </tr>\n",
       "  </thead>\n",
       "  <tbody>\n",
       "    <tr>\n",
       "      <th>0</th>\n",
       "      <td>29 PIECES</td>\n",
       "      <td>NaN</td>\n",
       "      <td>Visual Arts</td>\n",
       "      <td>Art Works</td>\n",
       "      <td>17-4100-7129</td>\n",
       "      <td>Dallas</td>\n",
       "      <td>TX</td>\n",
       "      <td>75214-3348</td>\n",
       "      <td>To support the creation of a public art work i...</td>\n",
       "      <td>2017</td>\n",
       "      <td>32</td>\n",
       "      <td>10000</td>\n",
       "      <td>2017-06-01</td>\n",
       "      <td>2019-07-31</td>\n",
       "      <td>0.0</td>\n",
       "      <td>0.0</td>\n",
       "      <td>0.0</td>\n",
       "      <td>0.180453</td>\n",
       "      <td>0.0</td>\n",
       "      <td>0.0</td>\n",
       "    </tr>\n",
       "    <tr>\n",
       "      <th>1</th>\n",
       "      <td>Artist Outreach, The</td>\n",
       "      <td>NaN</td>\n",
       "      <td>Challenge America</td>\n",
       "      <td>Challenge America</td>\n",
       "      <td>1909473-78-23</td>\n",
       "      <td>DALLAS</td>\n",
       "      <td>TX</td>\n",
       "      <td>75231-4180</td>\n",
       "      <td>Purpose: To support an interactive arts and sc...</td>\n",
       "      <td>2023</td>\n",
       "      <td>32</td>\n",
       "      <td>10000</td>\n",
       "      <td>2023-01-01</td>\n",
       "      <td>2023-05-31</td>\n",
       "      <td>0.0</td>\n",
       "      <td>0.0</td>\n",
       "      <td>0.0</td>\n",
       "      <td>0.000000</td>\n",
       "      <td>0.0</td>\n",
       "      <td>0.0</td>\n",
       "    </tr>\n",
       "  </tbody>\n",
       "</table>\n",
       "</div>"
      ],
      "text/plain": [
       "      Organization Name Popular Name Discipline / Field           Category  \\\n",
       "0             29 PIECES          NaN        Visual Arts          Art Works   \n",
       "1  Artist Outreach, The          NaN  Challenge America  Challenge America   \n",
       "\n",
       "  Application Number    City State         Zip  \\\n",
       "0       17-4100-7129  Dallas    TX  75214-3348   \n",
       "1      1909473-78-23  DALLAS    TX  75231-4180   \n",
       "\n",
       "                                 Project Description Fiscal Year  \\\n",
       "0  To support the creation of a public art work i...        2017   \n",
       "1  Purpose: To support an interactive arts and sc...        2023   \n",
       "\n",
       "   Congressional District Grant Amount Grant From Date Grant To Date  \\\n",
       "0                      32        10000      2017-06-01    2019-07-31   \n",
       "1                      32        10000      2023-01-01    2023-05-31   \n",
       "\n",
       "   sculpture  community  outdoor    public  communities  park  \n",
       "0        0.0        0.0      0.0  0.180453          0.0   0.0  \n",
       "1        0.0        0.0      0.0  0.000000          0.0   0.0  "
      ]
     },
     "execution_count": 308,
     "metadata": {},
     "output_type": "execute_result"
    }
   ],
   "source": [
    "keys= ['sculpture', 'community', 'outdoor', 'public', 'communities', 'park']\n",
    "tfidf_all = {}\n",
    "for key in keys:\n",
    "    tfidf_all[key]=[]\n",
    "\n",
    "for key in keys:\n",
    "    for df in dallas_tfidf_df:\n",
    "        this_score=df.loc[df['term']==key]['score'].iloc[0]\n",
    "        tfidf_all[key].append(this_score)\n",
    "        \n",
    "for key in keys:\n",
    "    dallas_nea_desript[key]=tfidf_all[key]\n",
    "    \n",
    "dallas_nea_desript.head(2)"
   ]
  },
  {
   "cell_type": "code",
   "execution_count": 309,
   "id": "4ae9b9d3",
   "metadata": {},
   "outputs": [
    {
     "name": "stderr",
     "output_type": "stream",
     "text": [
      "/opt/anaconda3/lib/python3.7/site-packages/ipykernel_launcher.py:12: SettingWithCopyWarning: \n",
      "A value is trying to be set on a copy of a slice from a DataFrame.\n",
      "Try using .loc[row_indexer,col_indexer] = value instead\n",
      "\n",
      "See the caveats in the documentation: https://pandas.pydata.org/pandas-docs/stable/user_guide/indexing.html#returning-a-view-versus-a-copy\n",
      "  if sys.path[0] == \"\":\n"
     ]
    },
    {
     "data": {
      "text/html": [
       "<div>\n",
       "<style scoped>\n",
       "    .dataframe tbody tr th:only-of-type {\n",
       "        vertical-align: middle;\n",
       "    }\n",
       "\n",
       "    .dataframe tbody tr th {\n",
       "        vertical-align: top;\n",
       "    }\n",
       "\n",
       "    .dataframe thead th {\n",
       "        text-align: right;\n",
       "    }\n",
       "</style>\n",
       "<table border=\"1\" class=\"dataframe\">\n",
       "  <thead>\n",
       "    <tr style=\"text-align: right;\">\n",
       "      <th></th>\n",
       "      <th>Organization Name</th>\n",
       "      <th>Popular Name</th>\n",
       "      <th>Discipline / Field</th>\n",
       "      <th>Category</th>\n",
       "      <th>Application Number</th>\n",
       "      <th>City</th>\n",
       "      <th>State</th>\n",
       "      <th>Zip</th>\n",
       "      <th>Project Description</th>\n",
       "      <th>Fiscal Year</th>\n",
       "      <th>...</th>\n",
       "      <th>Grant Amount</th>\n",
       "      <th>Grant From Date</th>\n",
       "      <th>Grant To Date</th>\n",
       "      <th>mural</th>\n",
       "      <th>sculpture</th>\n",
       "      <th>community</th>\n",
       "      <th>outdoor</th>\n",
       "      <th>public</th>\n",
       "      <th>communities</th>\n",
       "      <th>park</th>\n",
       "    </tr>\n",
       "  </thead>\n",
       "  <tbody>\n",
       "    <tr>\n",
       "      <th>0</th>\n",
       "      <td>American Pianists Association, Inc.</td>\n",
       "      <td>NaN</td>\n",
       "      <td>Music</td>\n",
       "      <td>Art Works</td>\n",
       "      <td>16-3100-7155</td>\n",
       "      <td>INDIANAPOLIS</td>\n",
       "      <td>IN</td>\n",
       "      <td>46208-3443</td>\n",
       "      <td>To support the outreach concerts and workshops...</td>\n",
       "      <td>2016</td>\n",
       "      <td>...</td>\n",
       "      <td>10000</td>\n",
       "      <td>2016-07-01</td>\n",
       "      <td>2017-04-30</td>\n",
       "      <td>0.0</td>\n",
       "      <td>0.0</td>\n",
       "      <td>0.000000</td>\n",
       "      <td>0.0</td>\n",
       "      <td>0.193002</td>\n",
       "      <td>0.0</td>\n",
       "      <td>0.0</td>\n",
       "    </tr>\n",
       "    <tr>\n",
       "      <th>1</th>\n",
       "      <td>American Pianists Association, Inc.</td>\n",
       "      <td>NaN</td>\n",
       "      <td>Music</td>\n",
       "      <td>Art Works</td>\n",
       "      <td>14-3100-7171</td>\n",
       "      <td>INDIANAPOLIS</td>\n",
       "      <td>IN</td>\n",
       "      <td>46208-3443</td>\n",
       "      <td>To support the Concerto Curriculum arts educat...</td>\n",
       "      <td>2014</td>\n",
       "      <td>...</td>\n",
       "      <td>10000</td>\n",
       "      <td>2014-06-01</td>\n",
       "      <td>2015-03-31</td>\n",
       "      <td>0.0</td>\n",
       "      <td>0.0</td>\n",
       "      <td>0.078236</td>\n",
       "      <td>0.0</td>\n",
       "      <td>0.094481</td>\n",
       "      <td>0.0</td>\n",
       "      <td>0.0</td>\n",
       "    </tr>\n",
       "  </tbody>\n",
       "</table>\n",
       "<p>2 rows × 21 columns</p>\n",
       "</div>"
      ],
      "text/plain": [
       "                     Organization Name Popular Name Discipline / Field  \\\n",
       "0  American Pianists Association, Inc.          NaN              Music   \n",
       "1  American Pianists Association, Inc.          NaN              Music   \n",
       "\n",
       "    Category Application Number          City State         Zip  \\\n",
       "0  Art Works       16-3100-7155  INDIANAPOLIS    IN  46208-3443   \n",
       "1  Art Works       14-3100-7171  INDIANAPOLIS    IN  46208-3443   \n",
       "\n",
       "                                 Project Description Fiscal Year  ...  \\\n",
       "0  To support the outreach concerts and workshops...        2016  ...   \n",
       "1  To support the Concerto Curriculum arts educat...        2014  ...   \n",
       "\n",
       "   Grant Amount Grant From Date Grant To Date mural  sculpture  community  \\\n",
       "0         10000      2016-07-01    2017-04-30   0.0        0.0   0.000000   \n",
       "1         10000      2014-06-01    2015-03-31   0.0        0.0   0.078236   \n",
       "\n",
       "   outdoor    public  communities  park  \n",
       "0      0.0  0.193002          0.0   0.0  \n",
       "1      0.0  0.094481          0.0   0.0  \n",
       "\n",
       "[2 rows x 21 columns]"
      ]
     },
     "execution_count": 309,
     "metadata": {},
     "output_type": "execute_result"
    }
   ],
   "source": [
    "keys= ['mural', 'sculpture', 'community', 'outdoor', 'public', 'communities', 'park']\n",
    "tfidf_all = {}\n",
    "for key in keys:\n",
    "    tfidf_all[key]=[]\n",
    "\n",
    "for key in keys:\n",
    "    for df in indy_tfidf_df:\n",
    "        this_score=df.loc[df['term']==key]['score'].iloc[0]\n",
    "        tfidf_all[key].append(this_score)\n",
    "        \n",
    "for key in keys:\n",
    "    indy_nea_desript[key]=tfidf_all[key]\n",
    "    \n",
    "indy_nea_desript.head(2)"
   ]
  },
  {
   "cell_type": "code",
   "execution_count": 310,
   "id": "6188ce97",
   "metadata": {},
   "outputs": [
    {
     "name": "stderr",
     "output_type": "stream",
     "text": [
      "/opt/anaconda3/lib/python3.7/site-packages/ipykernel_launcher.py:12: SettingWithCopyWarning: \n",
      "A value is trying to be set on a copy of a slice from a DataFrame.\n",
      "Try using .loc[row_indexer,col_indexer] = value instead\n",
      "\n",
      "See the caveats in the documentation: https://pandas.pydata.org/pandas-docs/stable/user_guide/indexing.html#returning-a-view-versus-a-copy\n",
      "  if sys.path[0] == \"\":\n"
     ]
    },
    {
     "data": {
      "text/html": [
       "<div>\n",
       "<style scoped>\n",
       "    .dataframe tbody tr th:only-of-type {\n",
       "        vertical-align: middle;\n",
       "    }\n",
       "\n",
       "    .dataframe tbody tr th {\n",
       "        vertical-align: top;\n",
       "    }\n",
       "\n",
       "    .dataframe thead th {\n",
       "        text-align: right;\n",
       "    }\n",
       "</style>\n",
       "<table border=\"1\" class=\"dataframe\">\n",
       "  <thead>\n",
       "    <tr style=\"text-align: right;\">\n",
       "      <th></th>\n",
       "      <th>Organization Name</th>\n",
       "      <th>Popular Name</th>\n",
       "      <th>Discipline / Field</th>\n",
       "      <th>Category</th>\n",
       "      <th>Application Number</th>\n",
       "      <th>City</th>\n",
       "      <th>State</th>\n",
       "      <th>Zip</th>\n",
       "      <th>Project Description</th>\n",
       "      <th>Fiscal Year</th>\n",
       "      <th>...</th>\n",
       "      <th>Grant Amount</th>\n",
       "      <th>Grant From Date</th>\n",
       "      <th>Grant To Date</th>\n",
       "      <th>mural</th>\n",
       "      <th>sculpture</th>\n",
       "      <th>community</th>\n",
       "      <th>outdoor</th>\n",
       "      <th>public</th>\n",
       "      <th>communities</th>\n",
       "      <th>park</th>\n",
       "    </tr>\n",
       "  </thead>\n",
       "  <tbody>\n",
       "    <tr>\n",
       "      <th>0</th>\n",
       "      <td>3-Legged Dog, Inc</td>\n",
       "      <td>aka 3LD</td>\n",
       "      <td>Presenting &amp; Multidisciplinary Works</td>\n",
       "      <td>Art Works</td>\n",
       "      <td>12-5400-7081</td>\n",
       "      <td>NEW YORK</td>\n",
       "      <td>NY</td>\n",
       "      <td>10006-2206</td>\n",
       "      <td>To support 3LD/3D+. This program provides reso...</td>\n",
       "      <td>2012</td>\n",
       "      <td>...</td>\n",
       "      <td>20000</td>\n",
       "      <td>2012-06-01</td>\n",
       "      <td>2015-05-31</td>\n",
       "      <td>0.0</td>\n",
       "      <td>0.0</td>\n",
       "      <td>0.0</td>\n",
       "      <td>0.0</td>\n",
       "      <td>0.0</td>\n",
       "      <td>0.0</td>\n",
       "      <td>0.0</td>\n",
       "    </tr>\n",
       "    <tr>\n",
       "      <th>1</th>\n",
       "      <td>3-Legged Dog, Inc</td>\n",
       "      <td>aka 3LD</td>\n",
       "      <td>Presenting &amp; Multidisciplinary Works</td>\n",
       "      <td>Access to Artistic Excellence</td>\n",
       "      <td>10-5400-7130</td>\n",
       "      <td>NEW YORK</td>\n",
       "      <td>NY</td>\n",
       "      <td>10006-2206</td>\n",
       "      <td>To support the Cooperative Professional Resour...</td>\n",
       "      <td>2010</td>\n",
       "      <td>...</td>\n",
       "      <td>15000</td>\n",
       "      <td>2010-07-01</td>\n",
       "      <td>2012-06-30</td>\n",
       "      <td>0.0</td>\n",
       "      <td>0.0</td>\n",
       "      <td>0.0</td>\n",
       "      <td>0.0</td>\n",
       "      <td>0.0</td>\n",
       "      <td>0.0</td>\n",
       "      <td>0.0</td>\n",
       "    </tr>\n",
       "  </tbody>\n",
       "</table>\n",
       "<p>2 rows × 21 columns</p>\n",
       "</div>"
      ],
      "text/plain": [
       "   Organization Name Popular Name                    Discipline / Field  \\\n",
       "0  3-Legged Dog, Inc      aka 3LD  Presenting & Multidisciplinary Works   \n",
       "1  3-Legged Dog, Inc      aka 3LD  Presenting & Multidisciplinary Works   \n",
       "\n",
       "                        Category Application Number      City State  \\\n",
       "0                      Art Works       12-5400-7081  NEW YORK    NY   \n",
       "1  Access to Artistic Excellence       10-5400-7130  NEW YORK    NY   \n",
       "\n",
       "          Zip                                Project Description Fiscal Year  \\\n",
       "0  10006-2206  To support 3LD/3D+. This program provides reso...        2012   \n",
       "1  10006-2206  To support the Cooperative Professional Resour...        2010   \n",
       "\n",
       "   ...  Grant Amount Grant From Date Grant To Date mural  sculpture  \\\n",
       "0  ...        20000       2012-06-01    2015-05-31   0.0        0.0   \n",
       "1  ...        15000       2010-07-01    2012-06-30   0.0        0.0   \n",
       "\n",
       "   community  outdoor  public  communities  park  \n",
       "0        0.0      0.0     0.0          0.0   0.0  \n",
       "1        0.0      0.0     0.0          0.0   0.0  \n",
       "\n",
       "[2 rows x 21 columns]"
      ]
     },
     "execution_count": 310,
     "metadata": {},
     "output_type": "execute_result"
    }
   ],
   "source": [
    "keys= ['mural', 'sculpture', 'community', 'outdoor', 'public', 'communities', 'park']\n",
    "tfidf_all = {}\n",
    "for key in keys:\n",
    "    tfidf_all[key]=[]\n",
    "\n",
    "for key in keys:\n",
    "    for df in nyc_tfidf_df:\n",
    "        this_score=df.loc[df['term']==key]['score'].iloc[0]\n",
    "        tfidf_all[key].append(this_score)\n",
    "        \n",
    "for key in keys:\n",
    "    nyc_nea_desript[key]=tfidf_all[key]\n",
    "    \n",
    "nyc_nea_desript.head(2)"
   ]
  },
  {
   "cell_type": "code",
   "execution_count": 311,
   "id": "38594ce6",
   "metadata": {},
   "outputs": [
    {
     "name": "stderr",
     "output_type": "stream",
     "text": [
      "/opt/anaconda3/lib/python3.7/site-packages/ipykernel_launcher.py:12: SettingWithCopyWarning: \n",
      "A value is trying to be set on a copy of a slice from a DataFrame.\n",
      "Try using .loc[row_indexer,col_indexer] = value instead\n",
      "\n",
      "See the caveats in the documentation: https://pandas.pydata.org/pandas-docs/stable/user_guide/indexing.html#returning-a-view-versus-a-copy\n",
      "  if sys.path[0] == \"\":\n"
     ]
    },
    {
     "data": {
      "text/html": [
       "<div>\n",
       "<style scoped>\n",
       "    .dataframe tbody tr th:only-of-type {\n",
       "        vertical-align: middle;\n",
       "    }\n",
       "\n",
       "    .dataframe tbody tr th {\n",
       "        vertical-align: top;\n",
       "    }\n",
       "\n",
       "    .dataframe thead th {\n",
       "        text-align: right;\n",
       "    }\n",
       "</style>\n",
       "<table border=\"1\" class=\"dataframe\">\n",
       "  <thead>\n",
       "    <tr style=\"text-align: right;\">\n",
       "      <th></th>\n",
       "      <th>Organization Name</th>\n",
       "      <th>Popular Name</th>\n",
       "      <th>Discipline / Field</th>\n",
       "      <th>Category</th>\n",
       "      <th>Application Number</th>\n",
       "      <th>City</th>\n",
       "      <th>State</th>\n",
       "      <th>Zip</th>\n",
       "      <th>Project Description</th>\n",
       "      <th>Fiscal Year</th>\n",
       "      <th>...</th>\n",
       "      <th>Grant From Date</th>\n",
       "      <th>Grant To Date</th>\n",
       "      <th>mural</th>\n",
       "      <th>sculpture</th>\n",
       "      <th>community</th>\n",
       "      <th>engagement</th>\n",
       "      <th>outdoor</th>\n",
       "      <th>public</th>\n",
       "      <th>communities</th>\n",
       "      <th>park</th>\n",
       "    </tr>\n",
       "  </thead>\n",
       "  <tbody>\n",
       "    <tr>\n",
       "      <th>0</th>\n",
       "      <td>3rd I South Asian Independent Film</td>\n",
       "      <td>aka 3rd i Films</td>\n",
       "      <td>Media Arts</td>\n",
       "      <td>Grants for Arts Projects</td>\n",
       "      <td>1904919-34-23</td>\n",
       "      <td>SAN FRANCISCO</td>\n",
       "      <td>CA</td>\n",
       "      <td>94110-2322</td>\n",
       "      <td>Purpose: To support 3rd i Films' San Francisco...</td>\n",
       "      <td>2023</td>\n",
       "      <td>...</td>\n",
       "      <td>2023-01-01</td>\n",
       "      <td>2023-12-31</td>\n",
       "      <td>0.0</td>\n",
       "      <td>0.0</td>\n",
       "      <td>0.0</td>\n",
       "      <td>0.0</td>\n",
       "      <td>0.0</td>\n",
       "      <td>0.137230</td>\n",
       "      <td>0.184247</td>\n",
       "      <td>0.0</td>\n",
       "    </tr>\n",
       "    <tr>\n",
       "      <th>1</th>\n",
       "      <td>3rd I South Asian Independent Film</td>\n",
       "      <td>aka 3rd i Films</td>\n",
       "      <td>Media Arts</td>\n",
       "      <td>Grants for Arts Projects</td>\n",
       "      <td>1888103-34-22</td>\n",
       "      <td>SAN FRANCISCO</td>\n",
       "      <td>CA</td>\n",
       "      <td>94110-2322</td>\n",
       "      <td>Purpose: To support 3rd i Films' San Francisco...</td>\n",
       "      <td>2022</td>\n",
       "      <td>...</td>\n",
       "      <td>2022-01-01</td>\n",
       "      <td>2022-12-31</td>\n",
       "      <td>0.0</td>\n",
       "      <td>0.0</td>\n",
       "      <td>0.0</td>\n",
       "      <td>0.0</td>\n",
       "      <td>0.0</td>\n",
       "      <td>0.139807</td>\n",
       "      <td>0.187707</td>\n",
       "      <td>0.0</td>\n",
       "    </tr>\n",
       "  </tbody>\n",
       "</table>\n",
       "<p>2 rows × 22 columns</p>\n",
       "</div>"
      ],
      "text/plain": [
       "                    Organization Name     Popular Name Discipline / Field  \\\n",
       "0  3rd I South Asian Independent Film  aka 3rd i Films         Media Arts   \n",
       "1  3rd I South Asian Independent Film  aka 3rd i Films         Media Arts   \n",
       "\n",
       "                   Category Application Number           City State  \\\n",
       "0  Grants for Arts Projects      1904919-34-23  SAN FRANCISCO    CA   \n",
       "1  Grants for Arts Projects      1888103-34-22  SAN FRANCISCO    CA   \n",
       "\n",
       "          Zip                                Project Description Fiscal Year  \\\n",
       "0  94110-2322  Purpose: To support 3rd i Films' San Francisco...        2023   \n",
       "1  94110-2322  Purpose: To support 3rd i Films' San Francisco...        2022   \n",
       "\n",
       "   ...  Grant From Date Grant To Date mural sculpture  community  engagement  \\\n",
       "0  ...       2023-01-01    2023-12-31   0.0       0.0        0.0         0.0   \n",
       "1  ...       2022-01-01    2022-12-31   0.0       0.0        0.0         0.0   \n",
       "\n",
       "   outdoor    public  communities  park  \n",
       "0      0.0  0.137230     0.184247   0.0  \n",
       "1      0.0  0.139807     0.187707   0.0  \n",
       "\n",
       "[2 rows x 22 columns]"
      ]
     },
     "execution_count": 311,
     "metadata": {},
     "output_type": "execute_result"
    }
   ],
   "source": [
    "keys= ['mural', 'sculpture', 'community', 'engagement', 'outdoor', 'public', 'communities', 'park']\n",
    "tfidf_all = {}\n",
    "for key in keys:\n",
    "    tfidf_all[key]=[]\n",
    "\n",
    "for key in keys:\n",
    "    for df in sanfran_tfidf_df:\n",
    "        this_score=df.loc[df['term']==key]['score'].iloc[0]\n",
    "        tfidf_all[key].append(this_score)\n",
    "        \n",
    "for key in keys:\n",
    "    sanfran_nea_desript[key]=tfidf_all[key]\n",
    "    \n",
    "sanfran_nea_desript.head(2)"
   ]
  },
  {
   "cell_type": "code",
   "execution_count": 312,
   "id": "216cd2a8",
   "metadata": {},
   "outputs": [],
   "source": [
    "#corr_matrix = boston_nea_desript_nans.corr().abs()\n",
    "#corr_matrix.drop(columns=['Congressional District'])"
   ]
  },
  {
   "cell_type": "code",
   "execution_count": 313,
   "id": "4d990656",
   "metadata": {},
   "outputs": [],
   "source": [
    "#sol = (corr_matrix.where(np.triu(np.ones(corr_matrix.shape), k=1).astype(bool))\n",
    "                  #.stack()\n",
    "                  #.sort_values(ascending=False))\n",
    "\n",
    "#corrdf = sol.to_frame()\n",
    "#corrdf.rename(columns = {0:'Corr_coefficient'}, inplace = True)\n",
    "#corrdf.sort_values(by = \"Corr_coefficient\", ascending = False)"
   ]
  },
  {
   "cell_type": "code",
   "execution_count": 314,
   "id": "5b8b24c4",
   "metadata": {},
   "outputs": [],
   "source": [
    "#renaming datasets\n",
    "boston_nea_public = boston_nea_desript\n",
    "cbus_nea_public = cbus_nea_desript\n",
    "dallas_nea_public = dallas_nea_desript\n",
    "indy_nea_public = indy_nea_desript\n",
    "nyc_nea_public = nyc_nea_desript\n",
    "sanfran_nea_public = sanfran_nea_desript"
   ]
  },
  {
   "cell_type": "markdown",
   "id": "d27b9288",
   "metadata": {},
   "source": [
    "# boston_nea_public['is_public_art'] = ((boston_nea_public['mural'] > 0) | (boston_nea_public['sculpture'] > 0) | \n",
    "                                      (boston_nea_public['community'] > 0)| \n",
    "                                      (boston_nea_public['outdoor'] > 0)| (boston_nea_public['public'] > 0)| \n",
    "                                      (boston_nea_public['communities'] > 0)| (boston_nea_public['park'] > 0)).astype(int)\n",
    "boston_nea_public.head(2)\n"
   ]
  },
  {
   "cell_type": "code",
   "execution_count": 316,
   "id": "c28f1eef",
   "metadata": {
    "scrolled": true
   },
   "outputs": [
    {
     "name": "stderr",
     "output_type": "stream",
     "text": [
      "/opt/anaconda3/lib/python3.7/site-packages/ipykernel_launcher.py:4: SettingWithCopyWarning: \n",
      "A value is trying to be set on a copy of a slice from a DataFrame.\n",
      "Try using .loc[row_indexer,col_indexer] = value instead\n",
      "\n",
      "See the caveats in the documentation: https://pandas.pydata.org/pandas-docs/stable/user_guide/indexing.html#returning-a-view-versus-a-copy\n",
      "  after removing the cwd from sys.path.\n"
     ]
    },
    {
     "data": {
      "text/html": [
       "<div>\n",
       "<style scoped>\n",
       "    .dataframe tbody tr th:only-of-type {\n",
       "        vertical-align: middle;\n",
       "    }\n",
       "\n",
       "    .dataframe tbody tr th {\n",
       "        vertical-align: top;\n",
       "    }\n",
       "\n",
       "    .dataframe thead th {\n",
       "        text-align: right;\n",
       "    }\n",
       "</style>\n",
       "<table border=\"1\" class=\"dataframe\">\n",
       "  <thead>\n",
       "    <tr style=\"text-align: right;\">\n",
       "      <th></th>\n",
       "      <th>Organization Name</th>\n",
       "      <th>Popular Name</th>\n",
       "      <th>Discipline / Field</th>\n",
       "      <th>Category</th>\n",
       "      <th>Application Number</th>\n",
       "      <th>City</th>\n",
       "      <th>State</th>\n",
       "      <th>Zip</th>\n",
       "      <th>Project Description</th>\n",
       "      <th>Fiscal Year</th>\n",
       "      <th>...</th>\n",
       "      <th>Grant From Date</th>\n",
       "      <th>Grant To Date</th>\n",
       "      <th>mural</th>\n",
       "      <th>sculpture</th>\n",
       "      <th>community</th>\n",
       "      <th>outdoor</th>\n",
       "      <th>public</th>\n",
       "      <th>communities</th>\n",
       "      <th>park</th>\n",
       "      <th>is_public_art</th>\n",
       "    </tr>\n",
       "  </thead>\n",
       "  <tbody>\n",
       "    <tr>\n",
       "      <th>0</th>\n",
       "      <td>Arts Foundation of Olde Towne</td>\n",
       "      <td>NaN</td>\n",
       "      <td>Challenge America</td>\n",
       "      <td>Challenge America Community Arts Development</td>\n",
       "      <td>02-7816-1439</td>\n",
       "      <td>Columbus</td>\n",
       "      <td>OH</td>\n",
       "      <td>43215-3978</td>\n",
       "      <td>To support a Community Arts Development projec...</td>\n",
       "      <td>2002</td>\n",
       "      <td>...</td>\n",
       "      <td>2002-09-01</td>\n",
       "      <td>2003-08-31</td>\n",
       "      <td>0.0</td>\n",
       "      <td>0.0</td>\n",
       "      <td>0.309521</td>\n",
       "      <td>0.0</td>\n",
       "      <td>0.0</td>\n",
       "      <td>0.0</td>\n",
       "      <td>0.0</td>\n",
       "      <td>1</td>\n",
       "    </tr>\n",
       "    <tr>\n",
       "      <th>1</th>\n",
       "      <td>Arts Foundation of Olde Towne</td>\n",
       "      <td>NaN</td>\n",
       "      <td>Challenge America</td>\n",
       "      <td>Challenge America Community Arts Development</td>\n",
       "      <td>01-7816-1370</td>\n",
       "      <td>Columbus</td>\n",
       "      <td>OH</td>\n",
       "      <td>43215-3978</td>\n",
       "      <td>To support a Community Arts Development projec...</td>\n",
       "      <td>2001</td>\n",
       "      <td>...</td>\n",
       "      <td>2001-09-01</td>\n",
       "      <td>2002-08-31</td>\n",
       "      <td>0.0</td>\n",
       "      <td>0.0</td>\n",
       "      <td>0.682322</td>\n",
       "      <td>0.0</td>\n",
       "      <td>0.0</td>\n",
       "      <td>0.0</td>\n",
       "      <td>0.0</td>\n",
       "      <td>1</td>\n",
       "    </tr>\n",
       "  </tbody>\n",
       "</table>\n",
       "<p>2 rows × 22 columns</p>\n",
       "</div>"
      ],
      "text/plain": [
       "               Organization Name Popular Name Discipline / Field  \\\n",
       "0  Arts Foundation of Olde Towne          NaN  Challenge America   \n",
       "1  Arts Foundation of Olde Towne          NaN  Challenge America   \n",
       "\n",
       "                                       Category Application Number      City  \\\n",
       "0  Challenge America Community Arts Development       02-7816-1439  Columbus   \n",
       "1  Challenge America Community Arts Development       01-7816-1370  Columbus   \n",
       "\n",
       "  State         Zip                                Project Description  \\\n",
       "0    OH  43215-3978  To support a Community Arts Development projec...   \n",
       "1    OH  43215-3978  To support a Community Arts Development projec...   \n",
       "\n",
       "  Fiscal Year  ...  Grant From Date Grant To Date mural sculpture  community  \\\n",
       "0        2002  ...       2002-09-01    2003-08-31   0.0       0.0   0.309521   \n",
       "1        2001  ...       2001-09-01    2002-08-31   0.0       0.0   0.682322   \n",
       "\n",
       "   outdoor  public  communities  park  is_public_art  \n",
       "0      0.0     0.0          0.0   0.0              1  \n",
       "1      0.0     0.0          0.0   0.0              1  \n",
       "\n",
       "[2 rows x 22 columns]"
      ]
     },
     "execution_count": 316,
     "metadata": {},
     "output_type": "execute_result"
    }
   ],
   "source": [
    "cbus_nea_public['is_public_art'] = ((cbus_nea_public['mural'] > 0) | (cbus_nea_public['sculpture'] > 0) | \n",
    "                                      (cbus_nea_public['community'] > 0)| \n",
    "                                      (cbus_nea_public['outdoor'] > 0)| (cbus_nea_public['public'] > 0)| \n",
    "                                      (cbus_nea_public['communities'] > 0)| (cbus_nea_public['park'] > 0)).astype(int)\n",
    "cbus_nea_public.head(2)"
   ]
  },
  {
   "cell_type": "code",
   "execution_count": 318,
   "id": "a681436d",
   "metadata": {
    "scrolled": true
   },
   "outputs": [
    {
     "name": "stderr",
     "output_type": "stream",
     "text": [
      "/opt/anaconda3/lib/python3.7/site-packages/ipykernel_launcher.py:4: SettingWithCopyWarning: \n",
      "A value is trying to be set on a copy of a slice from a DataFrame.\n",
      "Try using .loc[row_indexer,col_indexer] = value instead\n",
      "\n",
      "See the caveats in the documentation: https://pandas.pydata.org/pandas-docs/stable/user_guide/indexing.html#returning-a-view-versus-a-copy\n",
      "  after removing the cwd from sys.path.\n"
     ]
    },
    {
     "data": {
      "text/html": [
       "<div>\n",
       "<style scoped>\n",
       "    .dataframe tbody tr th:only-of-type {\n",
       "        vertical-align: middle;\n",
       "    }\n",
       "\n",
       "    .dataframe tbody tr th {\n",
       "        vertical-align: top;\n",
       "    }\n",
       "\n",
       "    .dataframe thead th {\n",
       "        text-align: right;\n",
       "    }\n",
       "</style>\n",
       "<table border=\"1\" class=\"dataframe\">\n",
       "  <thead>\n",
       "    <tr style=\"text-align: right;\">\n",
       "      <th></th>\n",
       "      <th>Organization Name</th>\n",
       "      <th>Popular Name</th>\n",
       "      <th>Discipline / Field</th>\n",
       "      <th>Category</th>\n",
       "      <th>Application Number</th>\n",
       "      <th>City</th>\n",
       "      <th>State</th>\n",
       "      <th>Zip</th>\n",
       "      <th>Project Description</th>\n",
       "      <th>Fiscal Year</th>\n",
       "      <th>...</th>\n",
       "      <th>Grant Amount</th>\n",
       "      <th>Grant From Date</th>\n",
       "      <th>Grant To Date</th>\n",
       "      <th>sculpture</th>\n",
       "      <th>community</th>\n",
       "      <th>outdoor</th>\n",
       "      <th>public</th>\n",
       "      <th>communities</th>\n",
       "      <th>park</th>\n",
       "      <th>is_public_art</th>\n",
       "    </tr>\n",
       "  </thead>\n",
       "  <tbody>\n",
       "    <tr>\n",
       "      <th>0</th>\n",
       "      <td>29 PIECES</td>\n",
       "      <td>NaN</td>\n",
       "      <td>Visual Arts</td>\n",
       "      <td>Art Works</td>\n",
       "      <td>17-4100-7129</td>\n",
       "      <td>Dallas</td>\n",
       "      <td>TX</td>\n",
       "      <td>75214-3348</td>\n",
       "      <td>To support the creation of a public art work i...</td>\n",
       "      <td>2017</td>\n",
       "      <td>...</td>\n",
       "      <td>10000</td>\n",
       "      <td>2017-06-01</td>\n",
       "      <td>2019-07-31</td>\n",
       "      <td>0.0</td>\n",
       "      <td>0.0</td>\n",
       "      <td>0.0</td>\n",
       "      <td>0.180453</td>\n",
       "      <td>0.0</td>\n",
       "      <td>0.0</td>\n",
       "      <td>1</td>\n",
       "    </tr>\n",
       "    <tr>\n",
       "      <th>1</th>\n",
       "      <td>Artist Outreach, The</td>\n",
       "      <td>NaN</td>\n",
       "      <td>Challenge America</td>\n",
       "      <td>Challenge America</td>\n",
       "      <td>1909473-78-23</td>\n",
       "      <td>DALLAS</td>\n",
       "      <td>TX</td>\n",
       "      <td>75231-4180</td>\n",
       "      <td>Purpose: To support an interactive arts and sc...</td>\n",
       "      <td>2023</td>\n",
       "      <td>...</td>\n",
       "      <td>10000</td>\n",
       "      <td>2023-01-01</td>\n",
       "      <td>2023-05-31</td>\n",
       "      <td>0.0</td>\n",
       "      <td>0.0</td>\n",
       "      <td>0.0</td>\n",
       "      <td>0.000000</td>\n",
       "      <td>0.0</td>\n",
       "      <td>0.0</td>\n",
       "      <td>0</td>\n",
       "    </tr>\n",
       "  </tbody>\n",
       "</table>\n",
       "<p>2 rows × 21 columns</p>\n",
       "</div>"
      ],
      "text/plain": [
       "      Organization Name Popular Name Discipline / Field           Category  \\\n",
       "0             29 PIECES          NaN        Visual Arts          Art Works   \n",
       "1  Artist Outreach, The          NaN  Challenge America  Challenge America   \n",
       "\n",
       "  Application Number    City State         Zip  \\\n",
       "0       17-4100-7129  Dallas    TX  75214-3348   \n",
       "1      1909473-78-23  DALLAS    TX  75231-4180   \n",
       "\n",
       "                                 Project Description Fiscal Year  ...  \\\n",
       "0  To support the creation of a public art work i...        2017  ...   \n",
       "1  Purpose: To support an interactive arts and sc...        2023  ...   \n",
       "\n",
       "   Grant Amount Grant From Date Grant To Date sculpture  community  outdoor  \\\n",
       "0         10000      2017-06-01    2019-07-31       0.0        0.0      0.0   \n",
       "1         10000      2023-01-01    2023-05-31       0.0        0.0      0.0   \n",
       "\n",
       "     public  communities  park  is_public_art  \n",
       "0  0.180453          0.0   0.0              1  \n",
       "1  0.000000          0.0   0.0              0  \n",
       "\n",
       "[2 rows x 21 columns]"
      ]
     },
     "execution_count": 318,
     "metadata": {},
     "output_type": "execute_result"
    }
   ],
   "source": [
    "dallas_nea_public['is_public_art'] = ((dallas_nea_public['sculpture'] > 0) | \n",
    "                                      (dallas_nea_public['community'] > 0)| \n",
    "                                      (dallas_nea_public['outdoor'] > 0)| (dallas_nea_public['public'] > 0)|\n",
    "                                      (dallas_nea_public['communities'] > 0)| (dallas_nea_public['park'] > 0)).astype(int)\n",
    "dallas_nea_public.head(2)"
   ]
  },
  {
   "cell_type": "code",
   "execution_count": 319,
   "id": "a82f4687",
   "metadata": {
    "scrolled": true
   },
   "outputs": [
    {
     "name": "stderr",
     "output_type": "stream",
     "text": [
      "/opt/anaconda3/lib/python3.7/site-packages/ipykernel_launcher.py:4: SettingWithCopyWarning: \n",
      "A value is trying to be set on a copy of a slice from a DataFrame.\n",
      "Try using .loc[row_indexer,col_indexer] = value instead\n",
      "\n",
      "See the caveats in the documentation: https://pandas.pydata.org/pandas-docs/stable/user_guide/indexing.html#returning-a-view-versus-a-copy\n",
      "  after removing the cwd from sys.path.\n"
     ]
    },
    {
     "data": {
      "text/html": [
       "<div>\n",
       "<style scoped>\n",
       "    .dataframe tbody tr th:only-of-type {\n",
       "        vertical-align: middle;\n",
       "    }\n",
       "\n",
       "    .dataframe tbody tr th {\n",
       "        vertical-align: top;\n",
       "    }\n",
       "\n",
       "    .dataframe thead th {\n",
       "        text-align: right;\n",
       "    }\n",
       "</style>\n",
       "<table border=\"1\" class=\"dataframe\">\n",
       "  <thead>\n",
       "    <tr style=\"text-align: right;\">\n",
       "      <th></th>\n",
       "      <th>Organization Name</th>\n",
       "      <th>Popular Name</th>\n",
       "      <th>Discipline / Field</th>\n",
       "      <th>Category</th>\n",
       "      <th>Application Number</th>\n",
       "      <th>City</th>\n",
       "      <th>State</th>\n",
       "      <th>Zip</th>\n",
       "      <th>Project Description</th>\n",
       "      <th>Fiscal Year</th>\n",
       "      <th>...</th>\n",
       "      <th>Grant From Date</th>\n",
       "      <th>Grant To Date</th>\n",
       "      <th>mural</th>\n",
       "      <th>sculpture</th>\n",
       "      <th>community</th>\n",
       "      <th>outdoor</th>\n",
       "      <th>public</th>\n",
       "      <th>communities</th>\n",
       "      <th>park</th>\n",
       "      <th>is_public_art</th>\n",
       "    </tr>\n",
       "  </thead>\n",
       "  <tbody>\n",
       "    <tr>\n",
       "      <th>0</th>\n",
       "      <td>American Pianists Association, Inc.</td>\n",
       "      <td>NaN</td>\n",
       "      <td>Music</td>\n",
       "      <td>Art Works</td>\n",
       "      <td>16-3100-7155</td>\n",
       "      <td>INDIANAPOLIS</td>\n",
       "      <td>IN</td>\n",
       "      <td>46208-3443</td>\n",
       "      <td>To support the outreach concerts and workshops...</td>\n",
       "      <td>2016</td>\n",
       "      <td>...</td>\n",
       "      <td>2016-07-01</td>\n",
       "      <td>2017-04-30</td>\n",
       "      <td>0.0</td>\n",
       "      <td>0.0</td>\n",
       "      <td>0.000000</td>\n",
       "      <td>0.0</td>\n",
       "      <td>0.193002</td>\n",
       "      <td>0.0</td>\n",
       "      <td>0.0</td>\n",
       "      <td>1</td>\n",
       "    </tr>\n",
       "    <tr>\n",
       "      <th>1</th>\n",
       "      <td>American Pianists Association, Inc.</td>\n",
       "      <td>NaN</td>\n",
       "      <td>Music</td>\n",
       "      <td>Art Works</td>\n",
       "      <td>14-3100-7171</td>\n",
       "      <td>INDIANAPOLIS</td>\n",
       "      <td>IN</td>\n",
       "      <td>46208-3443</td>\n",
       "      <td>To support the Concerto Curriculum arts educat...</td>\n",
       "      <td>2014</td>\n",
       "      <td>...</td>\n",
       "      <td>2014-06-01</td>\n",
       "      <td>2015-03-31</td>\n",
       "      <td>0.0</td>\n",
       "      <td>0.0</td>\n",
       "      <td>0.078236</td>\n",
       "      <td>0.0</td>\n",
       "      <td>0.094481</td>\n",
       "      <td>0.0</td>\n",
       "      <td>0.0</td>\n",
       "      <td>1</td>\n",
       "    </tr>\n",
       "  </tbody>\n",
       "</table>\n",
       "<p>2 rows × 22 columns</p>\n",
       "</div>"
      ],
      "text/plain": [
       "                     Organization Name Popular Name Discipline / Field  \\\n",
       "0  American Pianists Association, Inc.          NaN              Music   \n",
       "1  American Pianists Association, Inc.          NaN              Music   \n",
       "\n",
       "    Category Application Number          City State         Zip  \\\n",
       "0  Art Works       16-3100-7155  INDIANAPOLIS    IN  46208-3443   \n",
       "1  Art Works       14-3100-7171  INDIANAPOLIS    IN  46208-3443   \n",
       "\n",
       "                                 Project Description Fiscal Year  ...  \\\n",
       "0  To support the outreach concerts and workshops...        2016  ...   \n",
       "1  To support the Concerto Curriculum arts educat...        2014  ...   \n",
       "\n",
       "   Grant From Date Grant To Date mural sculpture  community  outdoor  \\\n",
       "0       2016-07-01    2017-04-30   0.0       0.0   0.000000      0.0   \n",
       "1       2014-06-01    2015-03-31   0.0       0.0   0.078236      0.0   \n",
       "\n",
       "     public  communities  park  is_public_art  \n",
       "0  0.193002          0.0   0.0              1  \n",
       "1  0.094481          0.0   0.0              1  \n",
       "\n",
       "[2 rows x 22 columns]"
      ]
     },
     "execution_count": 319,
     "metadata": {},
     "output_type": "execute_result"
    }
   ],
   "source": [
    "indy_nea_public['is_public_art'] = ((indy_nea_public['mural'] > 0) | (indy_nea_public['sculpture'] > 0) | \n",
    "                                      (indy_nea_public['community'] > 0)| \n",
    "                                      (indy_nea_public['outdoor'] > 0)| (indy_nea_public['public'] > 0)| \n",
    "                                      (indy_nea_public['communities'] > 0)| (indy_nea_public['park'] > 0)).astype(int)\n",
    "indy_nea_public.head(2)"
   ]
  },
  {
   "cell_type": "code",
   "execution_count": 320,
   "id": "4fab045d",
   "metadata": {},
   "outputs": [
    {
     "name": "stderr",
     "output_type": "stream",
     "text": [
      "/opt/anaconda3/lib/python3.7/site-packages/ipykernel_launcher.py:4: SettingWithCopyWarning: \n",
      "A value is trying to be set on a copy of a slice from a DataFrame.\n",
      "Try using .loc[row_indexer,col_indexer] = value instead\n",
      "\n",
      "See the caveats in the documentation: https://pandas.pydata.org/pandas-docs/stable/user_guide/indexing.html#returning-a-view-versus-a-copy\n",
      "  after removing the cwd from sys.path.\n"
     ]
    },
    {
     "data": {
      "text/html": [
       "<div>\n",
       "<style scoped>\n",
       "    .dataframe tbody tr th:only-of-type {\n",
       "        vertical-align: middle;\n",
       "    }\n",
       "\n",
       "    .dataframe tbody tr th {\n",
       "        vertical-align: top;\n",
       "    }\n",
       "\n",
       "    .dataframe thead th {\n",
       "        text-align: right;\n",
       "    }\n",
       "</style>\n",
       "<table border=\"1\" class=\"dataframe\">\n",
       "  <thead>\n",
       "    <tr style=\"text-align: right;\">\n",
       "      <th></th>\n",
       "      <th>Organization Name</th>\n",
       "      <th>Popular Name</th>\n",
       "      <th>Discipline / Field</th>\n",
       "      <th>Category</th>\n",
       "      <th>Application Number</th>\n",
       "      <th>City</th>\n",
       "      <th>State</th>\n",
       "      <th>Zip</th>\n",
       "      <th>Project Description</th>\n",
       "      <th>Fiscal Year</th>\n",
       "      <th>...</th>\n",
       "      <th>Grant From Date</th>\n",
       "      <th>Grant To Date</th>\n",
       "      <th>mural</th>\n",
       "      <th>sculpture</th>\n",
       "      <th>community</th>\n",
       "      <th>outdoor</th>\n",
       "      <th>public</th>\n",
       "      <th>communities</th>\n",
       "      <th>park</th>\n",
       "      <th>is_public_art</th>\n",
       "    </tr>\n",
       "  </thead>\n",
       "  <tbody>\n",
       "    <tr>\n",
       "      <th>0</th>\n",
       "      <td>3-Legged Dog, Inc</td>\n",
       "      <td>aka 3LD</td>\n",
       "      <td>Presenting &amp; Multidisciplinary Works</td>\n",
       "      <td>Art Works</td>\n",
       "      <td>12-5400-7081</td>\n",
       "      <td>NEW YORK</td>\n",
       "      <td>NY</td>\n",
       "      <td>10006-2206</td>\n",
       "      <td>To support 3LD/3D+. This program provides reso...</td>\n",
       "      <td>2012</td>\n",
       "      <td>...</td>\n",
       "      <td>2012-06-01</td>\n",
       "      <td>2015-05-31</td>\n",
       "      <td>0.0</td>\n",
       "      <td>0.0</td>\n",
       "      <td>0.0</td>\n",
       "      <td>0.0</td>\n",
       "      <td>0.0</td>\n",
       "      <td>0.0</td>\n",
       "      <td>0.0</td>\n",
       "      <td>0</td>\n",
       "    </tr>\n",
       "    <tr>\n",
       "      <th>1</th>\n",
       "      <td>3-Legged Dog, Inc</td>\n",
       "      <td>aka 3LD</td>\n",
       "      <td>Presenting &amp; Multidisciplinary Works</td>\n",
       "      <td>Access to Artistic Excellence</td>\n",
       "      <td>10-5400-7130</td>\n",
       "      <td>NEW YORK</td>\n",
       "      <td>NY</td>\n",
       "      <td>10006-2206</td>\n",
       "      <td>To support the Cooperative Professional Resour...</td>\n",
       "      <td>2010</td>\n",
       "      <td>...</td>\n",
       "      <td>2010-07-01</td>\n",
       "      <td>2012-06-30</td>\n",
       "      <td>0.0</td>\n",
       "      <td>0.0</td>\n",
       "      <td>0.0</td>\n",
       "      <td>0.0</td>\n",
       "      <td>0.0</td>\n",
       "      <td>0.0</td>\n",
       "      <td>0.0</td>\n",
       "      <td>0</td>\n",
       "    </tr>\n",
       "  </tbody>\n",
       "</table>\n",
       "<p>2 rows × 22 columns</p>\n",
       "</div>"
      ],
      "text/plain": [
       "   Organization Name Popular Name                    Discipline / Field  \\\n",
       "0  3-Legged Dog, Inc      aka 3LD  Presenting & Multidisciplinary Works   \n",
       "1  3-Legged Dog, Inc      aka 3LD  Presenting & Multidisciplinary Works   \n",
       "\n",
       "                        Category Application Number      City State  \\\n",
       "0                      Art Works       12-5400-7081  NEW YORK    NY   \n",
       "1  Access to Artistic Excellence       10-5400-7130  NEW YORK    NY   \n",
       "\n",
       "          Zip                                Project Description Fiscal Year  \\\n",
       "0  10006-2206  To support 3LD/3D+. This program provides reso...        2012   \n",
       "1  10006-2206  To support the Cooperative Professional Resour...        2010   \n",
       "\n",
       "   ...  Grant From Date Grant To Date mural sculpture  community  outdoor  \\\n",
       "0  ...       2012-06-01    2015-05-31   0.0       0.0        0.0      0.0   \n",
       "1  ...       2010-07-01    2012-06-30   0.0       0.0        0.0      0.0   \n",
       "\n",
       "   public  communities  park  is_public_art  \n",
       "0     0.0          0.0   0.0              0  \n",
       "1     0.0          0.0   0.0              0  \n",
       "\n",
       "[2 rows x 22 columns]"
      ]
     },
     "execution_count": 320,
     "metadata": {},
     "output_type": "execute_result"
    }
   ],
   "source": [
    "nyc_nea_public['is_public_art'] = ((nyc_nea_public['mural'] > 0) | (nyc_nea_public['sculpture'] > 0) | \n",
    "                                      (nyc_nea_public['community'] > 0)| \n",
    "                                      (nyc_nea_public['outdoor'] > 0)| (nyc_nea_public['public'] > 0)| \n",
    "                                      (nyc_nea_public['communities'] > 0)| (nyc_nea_public['park'] > 0)).astype(int)\n",
    "nyc_nea_public.head(2)"
   ]
  },
  {
   "cell_type": "code",
   "execution_count": 321,
   "id": "9d2cc721",
   "metadata": {},
   "outputs": [
    {
     "name": "stderr",
     "output_type": "stream",
     "text": [
      "/opt/anaconda3/lib/python3.7/site-packages/ipykernel_launcher.py:4: SettingWithCopyWarning: \n",
      "A value is trying to be set on a copy of a slice from a DataFrame.\n",
      "Try using .loc[row_indexer,col_indexer] = value instead\n",
      "\n",
      "See the caveats in the documentation: https://pandas.pydata.org/pandas-docs/stable/user_guide/indexing.html#returning-a-view-versus-a-copy\n",
      "  after removing the cwd from sys.path.\n"
     ]
    },
    {
     "data": {
      "text/html": [
       "<div>\n",
       "<style scoped>\n",
       "    .dataframe tbody tr th:only-of-type {\n",
       "        vertical-align: middle;\n",
       "    }\n",
       "\n",
       "    .dataframe tbody tr th {\n",
       "        vertical-align: top;\n",
       "    }\n",
       "\n",
       "    .dataframe thead th {\n",
       "        text-align: right;\n",
       "    }\n",
       "</style>\n",
       "<table border=\"1\" class=\"dataframe\">\n",
       "  <thead>\n",
       "    <tr style=\"text-align: right;\">\n",
       "      <th></th>\n",
       "      <th>Organization Name</th>\n",
       "      <th>Popular Name</th>\n",
       "      <th>Discipline / Field</th>\n",
       "      <th>Category</th>\n",
       "      <th>Application Number</th>\n",
       "      <th>City</th>\n",
       "      <th>State</th>\n",
       "      <th>Zip</th>\n",
       "      <th>Project Description</th>\n",
       "      <th>Fiscal Year</th>\n",
       "      <th>...</th>\n",
       "      <th>Grant To Date</th>\n",
       "      <th>mural</th>\n",
       "      <th>sculpture</th>\n",
       "      <th>community</th>\n",
       "      <th>engagement</th>\n",
       "      <th>outdoor</th>\n",
       "      <th>public</th>\n",
       "      <th>communities</th>\n",
       "      <th>park</th>\n",
       "      <th>is_public_art</th>\n",
       "    </tr>\n",
       "  </thead>\n",
       "  <tbody>\n",
       "    <tr>\n",
       "      <th>0</th>\n",
       "      <td>3rd I South Asian Independent Film</td>\n",
       "      <td>aka 3rd i Films</td>\n",
       "      <td>Media Arts</td>\n",
       "      <td>Grants for Arts Projects</td>\n",
       "      <td>1904919-34-23</td>\n",
       "      <td>SAN FRANCISCO</td>\n",
       "      <td>CA</td>\n",
       "      <td>94110-2322</td>\n",
       "      <td>Purpose: To support 3rd i Films' San Francisco...</td>\n",
       "      <td>2023</td>\n",
       "      <td>...</td>\n",
       "      <td>2023-12-31</td>\n",
       "      <td>0.0</td>\n",
       "      <td>0.0</td>\n",
       "      <td>0.0</td>\n",
       "      <td>0.0</td>\n",
       "      <td>0.0</td>\n",
       "      <td>0.137230</td>\n",
       "      <td>0.184247</td>\n",
       "      <td>0.0</td>\n",
       "      <td>1</td>\n",
       "    </tr>\n",
       "    <tr>\n",
       "      <th>1</th>\n",
       "      <td>3rd I South Asian Independent Film</td>\n",
       "      <td>aka 3rd i Films</td>\n",
       "      <td>Media Arts</td>\n",
       "      <td>Grants for Arts Projects</td>\n",
       "      <td>1888103-34-22</td>\n",
       "      <td>SAN FRANCISCO</td>\n",
       "      <td>CA</td>\n",
       "      <td>94110-2322</td>\n",
       "      <td>Purpose: To support 3rd i Films' San Francisco...</td>\n",
       "      <td>2022</td>\n",
       "      <td>...</td>\n",
       "      <td>2022-12-31</td>\n",
       "      <td>0.0</td>\n",
       "      <td>0.0</td>\n",
       "      <td>0.0</td>\n",
       "      <td>0.0</td>\n",
       "      <td>0.0</td>\n",
       "      <td>0.139807</td>\n",
       "      <td>0.187707</td>\n",
       "      <td>0.0</td>\n",
       "      <td>1</td>\n",
       "    </tr>\n",
       "  </tbody>\n",
       "</table>\n",
       "<p>2 rows × 23 columns</p>\n",
       "</div>"
      ],
      "text/plain": [
       "                    Organization Name     Popular Name Discipline / Field  \\\n",
       "0  3rd I South Asian Independent Film  aka 3rd i Films         Media Arts   \n",
       "1  3rd I South Asian Independent Film  aka 3rd i Films         Media Arts   \n",
       "\n",
       "                   Category Application Number           City State  \\\n",
       "0  Grants for Arts Projects      1904919-34-23  SAN FRANCISCO    CA   \n",
       "1  Grants for Arts Projects      1888103-34-22  SAN FRANCISCO    CA   \n",
       "\n",
       "          Zip                                Project Description Fiscal Year  \\\n",
       "0  94110-2322  Purpose: To support 3rd i Films' San Francisco...        2023   \n",
       "1  94110-2322  Purpose: To support 3rd i Films' San Francisco...        2022   \n",
       "\n",
       "   ...  Grant To Date mural sculpture community  engagement  outdoor  \\\n",
       "0  ...     2023-12-31   0.0       0.0       0.0         0.0      0.0   \n",
       "1  ...     2022-12-31   0.0       0.0       0.0         0.0      0.0   \n",
       "\n",
       "     public  communities  park  is_public_art  \n",
       "0  0.137230     0.184247   0.0              1  \n",
       "1  0.139807     0.187707   0.0              1  \n",
       "\n",
       "[2 rows x 23 columns]"
      ]
     },
     "execution_count": 321,
     "metadata": {},
     "output_type": "execute_result"
    }
   ],
   "source": [
    "sanfran_nea_public['is_public_art'] = ((sanfran_nea_public['mural'] > 0) | (sanfran_nea_public['sculpture'] > 0) | \n",
    "                                      (sanfran_nea_public['community'] > 0)| \n",
    "                                      (sanfran_nea_public['outdoor'] > 0)| (sanfran_nea_public['public'] > 0)| \n",
    "                                      (sanfran_nea_public['communities'] > 0)| (sanfran_nea_public['park'] > 0)).astype(int)\n",
    "sanfran_nea_public.head(2)"
   ]
  },
  {
   "cell_type": "code",
   "execution_count": 323,
   "id": "0b23b96e",
   "metadata": {},
   "outputs": [],
   "source": [
    "boston_nea_public.to_csv('boston_nea_public_keyword.csv')\n",
    "cbus_nea_public.to_csv('cbus_nea_public_keyword.csv')\n",
    "dallas_nea_public.to_csv('dallas_nea_public_keyword.csv')\n",
    "indy_nea_public.to_csv('indy_nea_public_keyword.csv')\n",
    "nyc_nea_public.to_csv('nyc_nea_public_keyword.csv')\n",
    "sanfran_nea_public.to_csv('sanfran_nea_public_keyword.csv')"
   ]
  },
  {
   "cell_type": "code",
   "execution_count": 324,
   "id": "779e610c",
   "metadata": {},
   "outputs": [],
   "source": [
    "from sklearn.model_selection import train_test_split\n",
    "\n",
    "x_boston = boston_nea_public[['Grant Amount']]\n",
    "y_boston = boston_nea_public['is_public_art']\n",
    "\n",
    "X_train_boston, X_test_boston, y_train_boston, y_test_boston = train_test_split(x_boston, \n",
    "                                                    y_boston, \n",
    "                                                    test_size=0.33, \n",
    "                                                    random_state=11)"
   ]
  },
  {
   "cell_type": "code",
   "execution_count": 325,
   "id": "b07e4cfb",
   "metadata": {},
   "outputs": [],
   "source": [
    "x_cbus = cbus_nea_public[['Grant Amount']]\n",
    "y_cbus = cbus_nea_public['is_public_art']\n",
    "\n",
    "X_train_cbus, X_test_cbus, y_train_cbus, y_test_cbus = train_test_split(x_cbus, \n",
    "                                                    y_cbus, \n",
    "                                                    test_size=0.33, \n",
    "                                                    random_state=11)"
   ]
  },
  {
   "cell_type": "code",
   "execution_count": 326,
   "id": "a26ae1e9",
   "metadata": {},
   "outputs": [],
   "source": [
    "x_dallas = dallas_nea_public[['Grant Amount']]\n",
    "y_dallas = dallas_nea_public['is_public_art']\n",
    "\n",
    "X_train_dallas, X_test_dallas, y_train_dallas, y_test_dallas = train_test_split(x_dallas, \n",
    "                                                    y_dallas, \n",
    "                                                    test_size=0.33, \n",
    "                                                    random_state=11)"
   ]
  },
  {
   "cell_type": "code",
   "execution_count": 327,
   "id": "71c032b2",
   "metadata": {},
   "outputs": [],
   "source": [
    "x_indy = indy_nea_public[['Grant Amount']]\n",
    "y_indy = indy_nea_public['is_public_art']\n",
    "\n",
    "X_train_indy, X_test_indy, y_train_indy, y_test_indy = train_test_split(x_indy, \n",
    "                                                    y_indy, \n",
    "                                                    test_size=0.33, \n",
    "                                                    random_state=11)"
   ]
  },
  {
   "cell_type": "code",
   "execution_count": 328,
   "id": "a97be6c9",
   "metadata": {},
   "outputs": [],
   "source": [
    "x_nyc = nyc_nea_public[['Grant Amount']]\n",
    "y_nyc = nyc_nea_public['is_public_art']\n",
    "\n",
    "X_train_nyc, X_test_nyc, y_train_nyc, y_test_nyc = train_test_split(x_nyc, \n",
    "                                                    y_nyc, \n",
    "                                                    test_size=0.33, \n",
    "                                                    random_state=11)"
   ]
  },
  {
   "cell_type": "code",
   "execution_count": 329,
   "id": "20c08e95",
   "metadata": {},
   "outputs": [],
   "source": [
    "x_sanfran = sanfran_nea_public[['Grant Amount']]\n",
    "y_sanfran = sanfran_nea_public['is_public_art']\n",
    "\n",
    "X_train_sanfran, X_test_sanfran, y_train_sanfran, y_test_sanfran = train_test_split(x_sanfran, \n",
    "                                                    y_sanfran, \n",
    "                                                    test_size=0.33, \n",
    "                                                    random_state=11)"
   ]
  },
  {
   "cell_type": "code",
   "execution_count": 330,
   "id": "aed453ff",
   "metadata": {},
   "outputs": [],
   "source": [
    "from sklearn.linear_model import LogisticRegression\n",
    "log_reg = LogisticRegression(class_weight='balanced')\n",
    "\n",
    "log_boston_train=log_reg.fit(X_train_boston, y_train_boston)\n",
    "predict_boston = log_boston_train.predict(X_test_boston)\n",
    "boston_score = log_boston_train.score(X_test_boston,y_test_boston)"
   ]
  },
  {
   "cell_type": "code",
   "execution_count": 331,
   "id": "89877ad5",
   "metadata": {
    "scrolled": true
   },
   "outputs": [
    {
     "data": {
      "text/plain": [
       "0.6872586872586872"
      ]
     },
     "execution_count": 331,
     "metadata": {},
     "output_type": "execute_result"
    }
   ],
   "source": [
    "boston_score"
   ]
  },
  {
   "cell_type": "code",
   "execution_count": 332,
   "id": "b81555b3",
   "metadata": {},
   "outputs": [
    {
     "name": "stderr",
     "output_type": "stream",
     "text": [
      "/opt/anaconda3/lib/python3.7/site-packages/sklearn/utils/deprecation.py:87: FutureWarning: Function plot_confusion_matrix is deprecated; Function `plot_confusion_matrix` is deprecated in 1.0 and will be removed in 1.2. Use one of the class methods: ConfusionMatrixDisplay.from_predictions or ConfusionMatrixDisplay.from_estimator.\n",
      "  warnings.warn(msg, category=FutureWarning)\n"
     ]
    },
    {
     "data": {
      "image/png": "[encoded data removed]",
      "text/plain": [
       "<Figure size 800x800 with 2 Axes>"
      ]
     },
     "metadata": {},
     "output_type": "display_data"
    }
   ],
   "source": [
    "from sklearn.metrics import plot_confusion_matrix\n",
    "fig, ax = mpl.subplots(figsize=(8, 8)) \n",
    "plot_confusion_matrix(log_boston_train, X_test_boston, y_test_boston, cmap='Blues', ax=ax)  \n",
    "mpl.show()"
   ]
  },
  {
   "cell_type": "code",
   "execution_count": 333,
   "id": "73bce1de",
   "metadata": {},
   "outputs": [
    {
     "name": "stderr",
     "output_type": "stream",
     "text": [
      "/opt/anaconda3/lib/python3.7/site-packages/sklearn/metrics/_classification.py:1318: UndefinedMetricWarning: Precision is ill-defined and being set to 0.0 in labels with no predicted samples. Use `zero_division` parameter to control this behavior.\n",
      "  _warn_prf(average, modifier, msg_start, len(result))\n"
     ]
    },
    {
     "data": {
      "text/plain": [
       "array([0.68725869, 0.        ])"
      ]
     },
     "execution_count": 333,
     "metadata": {},
     "output_type": "execute_result"
    }
   ],
   "source": [
    "from sklearn.metrics import precision_score\n",
    "precision_score(y_test_boston, predict_boston, average=None)"
   ]
  },
  {
   "cell_type": "code",
   "execution_count": 334,
   "id": "5461c098",
   "metadata": {},
   "outputs": [
    {
     "data": {
      "text/plain": [
       "array([1., 0.])"
      ]
     },
     "execution_count": 334,
     "metadata": {},
     "output_type": "execute_result"
    }
   ],
   "source": [
    "from sklearn.metrics import recall_score\n",
    "recall_score(y_test_boston, predict_boston, average=None)"
   ]
  },
  {
   "cell_type": "code",
   "execution_count": 335,
   "id": "284b9193",
   "metadata": {},
   "outputs": [
    {
     "data": {
      "text/plain": [
       "array([0.81464531, 0.        ])"
      ]
     },
     "execution_count": 335,
     "metadata": {},
     "output_type": "execute_result"
    }
   ],
   "source": [
    "from sklearn.metrics import f1_score\n",
    "f1_score(y_test_boston, predict_boston, average=None)"
   ]
  },
  {
   "cell_type": "code",
   "execution_count": 336,
   "id": "f266ae91",
   "metadata": {},
   "outputs": [
    {
     "data": {
      "text/plain": [
       "array([4.69512303e-11])"
      ]
     },
     "execution_count": 336,
     "metadata": {},
     "output_type": "execute_result"
    }
   ],
   "source": [
    "log_boston_train.intercept_"
   ]
  },
  {
   "cell_type": "code",
   "execution_count": 337,
   "id": "89840cd2",
   "metadata": {},
   "outputs": [
    {
     "data": {
      "text/plain": [
       "array([[-2.30842793e-06]])"
      ]
     },
     "execution_count": 337,
     "metadata": {},
     "output_type": "execute_result"
    }
   ],
   "source": [
    "log_boston_train.coef_"
   ]
  },
  {
   "cell_type": "code",
   "execution_count": 338,
   "id": "0c028faf",
   "metadata": {},
   "outputs": [
    {
     "data": {
      "text/plain": [
       "0.7313432835820896"
      ]
     },
     "execution_count": 338,
     "metadata": {},
     "output_type": "execute_result"
    }
   ],
   "source": [
    "log_cbus_train=log_reg.fit(X_train_cbus, y_train_cbus)\n",
    "predict_cbus = log_cbus_train.predict(X_test_cbus)\n",
    "cbus_score = log_cbus_train.score(X_test_cbus,y_test_cbus)\n",
    "cbus_score"
   ]
  },
  {
   "cell_type": "code",
   "execution_count": 339,
   "id": "bf787987",
   "metadata": {},
   "outputs": [
    {
     "name": "stderr",
     "output_type": "stream",
     "text": [
      "/opt/anaconda3/lib/python3.7/site-packages/sklearn/utils/deprecation.py:87: FutureWarning: Function plot_confusion_matrix is deprecated; Function `plot_confusion_matrix` is deprecated in 1.0 and will be removed in 1.2. Use one of the class methods: ConfusionMatrixDisplay.from_predictions or ConfusionMatrixDisplay.from_estimator.\n",
      "  warnings.warn(msg, category=FutureWarning)\n"
     ]
    },
    {
     "data": {
      "image/png": "[encoded data removed]",
      "text/plain": [
       "<Figure size 800x800 with 2 Axes>"
      ]
     },
     "metadata": {},
     "output_type": "display_data"
    }
   ],
   "source": [
    "fig, ax = mpl.subplots(figsize=(8, 8))\n",
    "plot_confusion_matrix(log_cbus_train, X_test_cbus, y_test_cbus, cmap='Blues', ax=ax)  \n",
    "mpl.show()"
   ]
  },
  {
   "cell_type": "code",
   "execution_count": 340,
   "id": "f6362fd1",
   "metadata": {},
   "outputs": [
    {
     "name": "stderr",
     "output_type": "stream",
     "text": [
      "/opt/anaconda3/lib/python3.7/site-packages/sklearn/metrics/_classification.py:1318: UndefinedMetricWarning: Precision is ill-defined and being set to 0.0 in labels with no predicted samples. Use `zero_division` parameter to control this behavior.\n",
      "  _warn_prf(average, modifier, msg_start, len(result))\n"
     ]
    },
    {
     "data": {
      "text/plain": [
       "array([0.73134328, 0.        ])"
      ]
     },
     "execution_count": 340,
     "metadata": {},
     "output_type": "execute_result"
    }
   ],
   "source": [
    "precision_score(y_test_cbus, predict_cbus, average=None)"
   ]
  },
  {
   "cell_type": "code",
   "execution_count": 341,
   "id": "e2572d86",
   "metadata": {},
   "outputs": [
    {
     "data": {
      "text/plain": [
       "array([1., 0.])"
      ]
     },
     "execution_count": 341,
     "metadata": {},
     "output_type": "execute_result"
    }
   ],
   "source": [
    "recall_score(y_test_cbus, predict_cbus, average=None)"
   ]
  },
  {
   "cell_type": "code",
   "execution_count": 342,
   "id": "e6619e76",
   "metadata": {},
   "outputs": [
    {
     "data": {
      "text/plain": [
       "array([0.84482759, 0.        ])"
      ]
     },
     "execution_count": 342,
     "metadata": {},
     "output_type": "execute_result"
    }
   ],
   "source": [
    "f1_score(y_test_cbus, predict_cbus, average=None)"
   ]
  },
  {
   "cell_type": "code",
   "execution_count": 343,
   "id": "df61f21e",
   "metadata": {},
   "outputs": [
    {
     "data": {
      "text/plain": [
       "array([1.60643768e-11])"
      ]
     },
     "execution_count": 343,
     "metadata": {},
     "output_type": "execute_result"
    }
   ],
   "source": [
    "log_cbus_train.intercept_"
   ]
  },
  {
   "cell_type": "code",
   "execution_count": 344,
   "id": "f30ce722",
   "metadata": {},
   "outputs": [
    {
     "data": {
      "text/plain": [
       "array([[-1.5466589e-06]])"
      ]
     },
     "execution_count": 344,
     "metadata": {},
     "output_type": "execute_result"
    }
   ],
   "source": [
    "log_cbus_train.coef_"
   ]
  },
  {
   "cell_type": "code",
   "execution_count": 345,
   "id": "7b5f6768",
   "metadata": {},
   "outputs": [
    {
     "data": {
      "text/plain": [
       "0.3137254901960784"
      ]
     },
     "execution_count": 345,
     "metadata": {},
     "output_type": "execute_result"
    }
   ],
   "source": [
    "log_dallas_train=log_reg.fit(X_train_dallas, y_train_dallas)\n",
    "predict_dallas = log_dallas_train.predict(X_test_dallas)\n",
    "dallas_score = log_dallas_train.score(X_test_dallas,y_test_dallas)\n",
    "dallas_score"
   ]
  },
  {
   "cell_type": "code",
   "execution_count": 346,
   "id": "ecabfbec",
   "metadata": {},
   "outputs": [
    {
     "name": "stderr",
     "output_type": "stream",
     "text": [
      "/opt/anaconda3/lib/python3.7/site-packages/sklearn/utils/deprecation.py:87: FutureWarning: Function plot_confusion_matrix is deprecated; Function `plot_confusion_matrix` is deprecated in 1.0 and will be removed in 1.2. Use one of the class methods: ConfusionMatrixDisplay.from_predictions or ConfusionMatrixDisplay.from_estimator.\n",
      "  warnings.warn(msg, category=FutureWarning)\n"
     ]
    },
    {
     "data": {
      "image/png": "[encoded data removed]",
      "text/plain": [
       "<Figure size 800x800 with 2 Axes>"
      ]
     },
     "metadata": {},
     "output_type": "display_data"
    }
   ],
   "source": [
    "fig, ax = mpl.subplots(figsize=(8, 8))\n",
    "plot_confusion_matrix(log_dallas_train, X_test_dallas, y_test_dallas, cmap='Blues', ax=ax)  \n",
    "mpl.show()"
   ]
  },
  {
   "cell_type": "code",
   "execution_count": 347,
   "id": "0fba7e1b",
   "metadata": {
    "scrolled": true
   },
   "outputs": [
    {
     "name": "stderr",
     "output_type": "stream",
     "text": [
      "/opt/anaconda3/lib/python3.7/site-packages/sklearn/metrics/_classification.py:1318: UndefinedMetricWarning: Precision is ill-defined and being set to 0.0 in labels with no predicted samples. Use `zero_division` parameter to control this behavior.\n",
      "  _warn_prf(average, modifier, msg_start, len(result))\n"
     ]
    },
    {
     "data": {
      "text/plain": [
       "array([0.        , 0.31372549])"
      ]
     },
     "execution_count": 347,
     "metadata": {},
     "output_type": "execute_result"
    }
   ],
   "source": [
    "precision_score(y_test_dallas, predict_dallas, average=None)"
   ]
  },
  {
   "cell_type": "code",
   "execution_count": 348,
   "id": "e5b1b551",
   "metadata": {
    "scrolled": true
   },
   "outputs": [
    {
     "data": {
      "text/plain": [
       "array([0., 1.])"
      ]
     },
     "execution_count": 348,
     "metadata": {},
     "output_type": "execute_result"
    }
   ],
   "source": [
    "recall_score(y_test_dallas, predict_dallas, average=None)"
   ]
  },
  {
   "cell_type": "code",
   "execution_count": 349,
   "id": "0d462a28",
   "metadata": {},
   "outputs": [
    {
     "data": {
      "text/plain": [
       "array([0.        , 0.47761194])"
      ]
     },
     "execution_count": 349,
     "metadata": {},
     "output_type": "execute_result"
    }
   ],
   "source": [
    "f1_score(y_test_dallas, predict_dallas, average=None)"
   ]
  },
  {
   "cell_type": "code",
   "execution_count": 350,
   "id": "6e0e788b",
   "metadata": {
    "scrolled": true
   },
   "outputs": [
    {
     "data": {
      "text/plain": [
       "array([-1.92072612e-10])"
      ]
     },
     "execution_count": 350,
     "metadata": {},
     "output_type": "execute_result"
    }
   ],
   "source": [
    "log_dallas_train.intercept_"
   ]
  },
  {
   "cell_type": "code",
   "execution_count": 351,
   "id": "f0a7fbdc",
   "metadata": {},
   "outputs": [
    {
     "data": {
      "text/plain": [
       "array([[3.94961402e-06]])"
      ]
     },
     "execution_count": 351,
     "metadata": {},
     "output_type": "execute_result"
    }
   ],
   "source": [
    "log_dallas_train.coef_"
   ]
  },
  {
   "cell_type": "code",
   "execution_count": 352,
   "id": "32bbeea4",
   "metadata": {},
   "outputs": [
    {
     "data": {
      "text/plain": [
       "0.6"
      ]
     },
     "execution_count": 352,
     "metadata": {},
     "output_type": "execute_result"
    }
   ],
   "source": [
    "log_indy_train=log_reg.fit(X_train_indy, y_train_indy)\n",
    "predict_indy = log_indy_train.predict(X_test_indy)\n",
    "indy_score = log_indy_train.score(X_test_indy,y_test_indy)\n",
    "indy_score"
   ]
  },
  {
   "cell_type": "code",
   "execution_count": 353,
   "id": "aa6a2958",
   "metadata": {},
   "outputs": [
    {
     "name": "stderr",
     "output_type": "stream",
     "text": [
      "/opt/anaconda3/lib/python3.7/site-packages/sklearn/utils/deprecation.py:87: FutureWarning: Function plot_confusion_matrix is deprecated; Function `plot_confusion_matrix` is deprecated in 1.0 and will be removed in 1.2. Use one of the class methods: ConfusionMatrixDisplay.from_predictions or ConfusionMatrixDisplay.from_estimator.\n",
      "  warnings.warn(msg, category=FutureWarning)\n"
     ]
    },
    {
     "data": {
      "image/png": "[encoded data removed]",
      "text/plain": [
       "<Figure size 800x800 with 2 Axes>"
      ]
     },
     "metadata": {},
     "output_type": "display_data"
    }
   ],
   "source": [
    "fig, ax = mpl.subplots(figsize=(8, 8))\n",
    "plot_confusion_matrix(log_indy_train, X_test_indy, y_test_indy, cmap='Blues', ax=ax)  \n",
    "mpl.show()"
   ]
  },
  {
   "cell_type": "code",
   "execution_count": 354,
   "id": "d1a83f16",
   "metadata": {},
   "outputs": [
    {
     "name": "stderr",
     "output_type": "stream",
     "text": [
      "/opt/anaconda3/lib/python3.7/site-packages/sklearn/metrics/_classification.py:1318: UndefinedMetricWarning: Precision is ill-defined and being set to 0.0 in labels with no predicted samples. Use `zero_division` parameter to control this behavior.\n",
      "  _warn_prf(average, modifier, msg_start, len(result))\n"
     ]
    },
    {
     "data": {
      "text/plain": [
       "array([0.6, 0. ])"
      ]
     },
     "execution_count": 354,
     "metadata": {},
     "output_type": "execute_result"
    }
   ],
   "source": [
    "precision_score(y_test_indy, predict_indy, average=None)"
   ]
  },
  {
   "cell_type": "code",
   "execution_count": 355,
   "id": "1998f989",
   "metadata": {},
   "outputs": [
    {
     "data": {
      "text/plain": [
       "array([1., 0.])"
      ]
     },
     "execution_count": 355,
     "metadata": {},
     "output_type": "execute_result"
    }
   ],
   "source": [
    "recall_score(y_test_indy, predict_indy, average=None)"
   ]
  },
  {
   "cell_type": "code",
   "execution_count": 356,
   "id": "e4fabbc3",
   "metadata": {},
   "outputs": [
    {
     "data": {
      "text/plain": [
       "array([0.75, 0.  ])"
      ]
     },
     "execution_count": 356,
     "metadata": {},
     "output_type": "execute_result"
    }
   ],
   "source": [
    "f1_score(y_test_indy, predict_indy, average=None)"
   ]
  },
  {
   "cell_type": "code",
   "execution_count": 357,
   "id": "72a81fd6",
   "metadata": {},
   "outputs": [
    {
     "data": {
      "text/plain": [
       "array([7.47539068e-11])"
      ]
     },
     "execution_count": 357,
     "metadata": {},
     "output_type": "execute_result"
    }
   ],
   "source": [
    "log_indy_train.intercept_"
   ]
  },
  {
   "cell_type": "code",
   "execution_count": 358,
   "id": "1481f02c",
   "metadata": {},
   "outputs": [
    {
     "data": {
      "text/plain": [
       "array([[-2.62749681e-06]])"
      ]
     },
     "execution_count": 358,
     "metadata": {},
     "output_type": "execute_result"
    }
   ],
   "source": [
    "log_indy_train.coef_"
   ]
  },
  {
   "cell_type": "code",
   "execution_count": 359,
   "id": "9fb60293",
   "metadata": {},
   "outputs": [
    {
     "data": {
      "text/plain": [
       "0.7141208156983455"
      ]
     },
     "execution_count": 359,
     "metadata": {},
     "output_type": "execute_result"
    }
   ],
   "source": [
    "log_nyc_train=log_reg.fit(X_train_nyc, y_train_nyc)\n",
    "predict_nyc = log_nyc_train.predict(X_test_nyc)\n",
    "nyc_score = log_nyc_train.score(X_test_nyc,y_test_nyc)\n",
    "nyc_score"
   ]
  },
  {
   "cell_type": "code",
   "execution_count": 360,
   "id": "8324fe43",
   "metadata": {},
   "outputs": [
    {
     "name": "stderr",
     "output_type": "stream",
     "text": [
      "/opt/anaconda3/lib/python3.7/site-packages/sklearn/utils/deprecation.py:87: FutureWarning: Function plot_confusion_matrix is deprecated; Function `plot_confusion_matrix` is deprecated in 1.0 and will be removed in 1.2. Use one of the class methods: ConfusionMatrixDisplay.from_predictions or ConfusionMatrixDisplay.from_estimator.\n",
      "  warnings.warn(msg, category=FutureWarning)\n"
     ]
    },
    {
     "data": {
      "image/png": "[encoded data removed]",
      "text/plain": [
       "<Figure size 800x800 with 2 Axes>"
      ]
     },
     "metadata": {},
     "output_type": "display_data"
    }
   ],
   "source": [
    "fig, ax = mpl.subplots(figsize=(8, 8))\n",
    "plot_confusion_matrix(log_nyc_train, X_test_nyc, y_test_nyc, cmap='Blues', ax=ax)  \n",
    "mpl.show()"
   ]
  },
  {
   "cell_type": "code",
   "execution_count": 361,
   "id": "623febc7",
   "metadata": {},
   "outputs": [
    {
     "name": "stderr",
     "output_type": "stream",
     "text": [
      "/opt/anaconda3/lib/python3.7/site-packages/sklearn/metrics/_classification.py:1318: UndefinedMetricWarning: Precision is ill-defined and being set to 0.0 in labels with no predicted samples. Use `zero_division` parameter to control this behavior.\n",
      "  _warn_prf(average, modifier, msg_start, len(result))\n"
     ]
    },
    {
     "data": {
      "text/plain": [
       "array([0.71412082, 0.        ])"
      ]
     },
     "execution_count": 361,
     "metadata": {},
     "output_type": "execute_result"
    }
   ],
   "source": [
    "precision_score(y_test_nyc, predict_nyc, average=None)"
   ]
  },
  {
   "cell_type": "code",
   "execution_count": 362,
   "id": "ad12c838",
   "metadata": {},
   "outputs": [
    {
     "data": {
      "text/plain": [
       "array([1., 0.])"
      ]
     },
     "execution_count": 362,
     "metadata": {},
     "output_type": "execute_result"
    }
   ],
   "source": [
    "recall_score(y_test_nyc, predict_nyc, average=None)"
   ]
  },
  {
   "cell_type": "code",
   "execution_count": 363,
   "id": "d35def2e",
   "metadata": {},
   "outputs": [
    {
     "data": {
      "text/plain": [
       "array([0.8332211, 0.       ])"
      ]
     },
     "execution_count": 363,
     "metadata": {},
     "output_type": "execute_result"
    }
   ],
   "source": [
    "f1_score(y_test_nyc, predict_nyc, average=None)"
   ]
  },
  {
   "cell_type": "code",
   "execution_count": 364,
   "id": "1257fc34",
   "metadata": {},
   "outputs": [
    {
     "data": {
      "text/plain": [
       "array([9.27774726e-12])"
      ]
     },
     "execution_count": 364,
     "metadata": {},
     "output_type": "execute_result"
    }
   ],
   "source": [
    "log_nyc_train.intercept_"
   ]
  },
  {
   "cell_type": "code",
   "execution_count": 365,
   "id": "2af221a8",
   "metadata": {},
   "outputs": [
    {
     "data": {
      "text/plain": [
       "array([[-3.6751413e-07]])"
      ]
     },
     "execution_count": 365,
     "metadata": {},
     "output_type": "execute_result"
    }
   ],
   "source": [
    "log_nyc_train.coef_"
   ]
  },
  {
   "cell_type": "code",
   "execution_count": 366,
   "id": "a3ee57eb",
   "metadata": {},
   "outputs": [
    {
     "data": {
      "text/plain": [
       "0.31357048748353095"
      ]
     },
     "execution_count": 366,
     "metadata": {},
     "output_type": "execute_result"
    }
   ],
   "source": [
    "log_sanfran_train=log_reg.fit(X_train_sanfran, y_train_sanfran)\n",
    "predict_sanfran = log_sanfran_train.predict(X_test_sanfran)\n",
    "sanfran_score = log_sanfran_train.score(X_test_sanfran,y_test_sanfran)\n",
    "sanfran_score"
   ]
  },
  {
   "cell_type": "code",
   "execution_count": 367,
   "id": "ed8d3054",
   "metadata": {},
   "outputs": [
    {
     "name": "stderr",
     "output_type": "stream",
     "text": [
      "/opt/anaconda3/lib/python3.7/site-packages/sklearn/utils/deprecation.py:87: FutureWarning: Function plot_confusion_matrix is deprecated; Function `plot_confusion_matrix` is deprecated in 1.0 and will be removed in 1.2. Use one of the class methods: ConfusionMatrixDisplay.from_predictions or ConfusionMatrixDisplay.from_estimator.\n",
      "  warnings.warn(msg, category=FutureWarning)\n"
     ]
    },
    {
     "data": {
      "image/png": "[encoded data removed]",
      "text/plain": [
       "<Figure size 800x800 with 2 Axes>"
      ]
     },
     "metadata": {},
     "output_type": "display_data"
    }
   ],
   "source": [
    "fig, ax = mpl.subplots(figsize=(8, 8))\n",
    "plot_confusion_matrix(log_sanfran_train, X_test_sanfran, y_test_sanfran, cmap='Blues', ax=ax)  \n",
    "mpl.show()"
   ]
  },
  {
   "cell_type": "code",
   "execution_count": 368,
   "id": "425d522c",
   "metadata": {},
   "outputs": [
    {
     "name": "stderr",
     "output_type": "stream",
     "text": [
      "/opt/anaconda3/lib/python3.7/site-packages/sklearn/metrics/_classification.py:1318: UndefinedMetricWarning: Precision is ill-defined and being set to 0.0 in labels with no predicted samples. Use `zero_division` parameter to control this behavior.\n",
      "  _warn_prf(average, modifier, msg_start, len(result))\n"
     ]
    },
    {
     "data": {
      "text/plain": [
       "array([0.        , 0.31357049])"
      ]
     },
     "execution_count": 368,
     "metadata": {},
     "output_type": "execute_result"
    }
   ],
   "source": [
    "precision_score(y_test_sanfran, predict_sanfran, average=None)"
   ]
  },
  {
   "cell_type": "code",
   "execution_count": 369,
   "id": "2af9bf80",
   "metadata": {},
   "outputs": [
    {
     "data": {
      "text/plain": [
       "array([0., 1.])"
      ]
     },
     "execution_count": 369,
     "metadata": {},
     "output_type": "execute_result"
    }
   ],
   "source": [
    "recall_score(y_test_sanfran, predict_sanfran, average=None)"
   ]
  },
  {
   "cell_type": "code",
   "execution_count": 370,
   "id": "a1e914f7",
   "metadata": {},
   "outputs": [
    {
     "data": {
      "text/plain": [
       "array([0.       , 0.4774323])"
      ]
     },
     "execution_count": 370,
     "metadata": {},
     "output_type": "execute_result"
    }
   ],
   "source": [
    "f1_score(y_test_sanfran, predict_sanfran, average=None)"
   ]
  },
  {
   "cell_type": "code",
   "execution_count": 371,
   "id": "af2cde0e",
   "metadata": {},
   "outputs": [
    {
     "data": {
      "text/plain": [
       "array([-3.79227929e-10])"
      ]
     },
     "execution_count": 371,
     "metadata": {},
     "output_type": "execute_result"
    }
   ],
   "source": [
    "log_sanfran_train.intercept_"
   ]
  },
  {
   "cell_type": "code",
   "execution_count": 372,
   "id": "18926b95",
   "metadata": {},
   "outputs": [
    {
     "data": {
      "text/plain": [
       "array([[4.46165674e-06]])"
      ]
     },
     "execution_count": 372,
     "metadata": {},
     "output_type": "execute_result"
    }
   ],
   "source": [
    "log_sanfran_train.coef_"
   ]
  },
  {
   "cell_type": "code",
   "execution_count": null,
   "id": "c5ef855e",
   "metadata": {},
   "outputs": [],
   "source": []
  }
 ],
 "metadata": {
  "kernelspec": {
   "display_name": "Python 3 (ipykernel)",
   "language": "python",
   "name": "python3"
  },
  "language_info": {
   "codemirror_mode": {
    "name": "ipython",
    "version": 3
   },
   "file_extension": ".py",
   "mimetype": "text/x-python",
   "name": "python",
   "nbconvert_exporter": "python",
   "pygments_lexer": "ipython3",
   "version": "3.7.4"
  }
 },
 "nbformat": 4,
 "nbformat_minor": 5
}
