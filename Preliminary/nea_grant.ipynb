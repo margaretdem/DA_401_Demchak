{
 "cells": [
  {
   "cell_type": "code",
   "execution_count": 244,
   "id": "8ae327dc",
   "metadata": {},
   "outputs": [],
   "source": [
    "import pandas as pd\n",
    "import os"
   ]
  },
  {
   "cell_type": "code",
   "execution_count": 3,
   "id": "73ced751",
   "metadata": {
    "scrolled": true
   },
   "outputs": [
    {
     "name": "stdout",
     "output_type": "stream",
     "text": [
      "Requirement already satisfied: xlrd in /opt/anaconda3/lib/python3.7/site-packages (2.0.1)\n",
      "\n",
      "\u001b[1m[\u001b[0m\u001b[34;49mnotice\u001b[0m\u001b[1;39;49m]\u001b[0m\u001b[39;49m A new release of pip available: \u001b[0m\u001b[31;49m22.3.1\u001b[0m\u001b[39;49m -> \u001b[0m\u001b[32;49m23.0.1\u001b[0m\n",
      "\u001b[1m[\u001b[0m\u001b[34;49mnotice\u001b[0m\u001b[1;39;49m]\u001b[0m\u001b[39;49m To update, run: \u001b[0m\u001b[32;49mpip install --upgrade pip\u001b[0m\n",
      "Note: you may need to restart the kernel to use updated packages.\n"
     ]
    }
   ],
   "source": [
    "pip install xlrd"
   ]
  },
  {
   "cell_type": "code",
   "execution_count": 4,
   "id": "28665fd3",
   "metadata": {},
   "outputs": [],
   "source": [
    "#print(os.getcwd())\n",
    "os.chdir(\"/Users/margaretdemchak/Desktop/DA_401/NEA_grant_data\")\n",
    "#print(os.getcwd())"
   ]
  },
  {
   "cell_type": "code",
   "execution_count": 57,
   "id": "02c10c30",
   "metadata": {},
   "outputs": [
    {
     "name": "stderr",
     "output_type": "stream",
     "text": [
      "/opt/anaconda3/lib/python3.7/site-packages/openpyxl/styles/stylesheet.py:226: UserWarning: Workbook contains no default style, apply openpyxl's default\n",
      "  warn(\"Workbook contains no default style, apply openpyxl's default\")\n"
     ]
    }
   ],
   "source": [
    "#Data from National Endowment of the Arts\n",
    "# read excel file\n",
    "df_boston = pd.read_excel('Boston_grant.xlsx')\n",
    "df_cbus = pd.read_excel('Columbus_grant.xlsx')\n",
    "df_dallas = pd.read_excel('Dallas_grant.xlsx')\n",
    "df_indy = pd.read_excel('Indy_grant.xlsx')\n",
    "df_nyc = pd.read_excel('NYC_grant.xlsx')\n",
    "df_sanfran = pd.read_excel('SanFran_grant.xlsx')"
   ]
  },
  {
   "cell_type": "code",
   "execution_count": 58,
   "id": "f0a65076",
   "metadata": {},
   "outputs": [
    {
     "data": {
      "text/html": [
       "<div>\n",
       "<style scoped>\n",
       "    .dataframe tbody tr th:only-of-type {\n",
       "        vertical-align: middle;\n",
       "    }\n",
       "\n",
       "    .dataframe tbody tr th {\n",
       "        vertical-align: top;\n",
       "    }\n",
       "\n",
       "    .dataframe thead th {\n",
       "        text-align: right;\n",
       "    }\n",
       "</style>\n",
       "<table border=\"1\" class=\"dataframe\">\n",
       "  <thead>\n",
       "    <tr style=\"text-align: right;\">\n",
       "      <th></th>\n",
       "      <th>Organization Name</th>\n",
       "      <th>Popular Name</th>\n",
       "      <th>Discipline / Field</th>\n",
       "      <th>Category</th>\n",
       "      <th>Application Number</th>\n",
       "      <th>City</th>\n",
       "      <th>State</th>\n",
       "      <th>Zip</th>\n",
       "      <th>Project Description</th>\n",
       "      <th>Fiscal Year</th>\n",
       "      <th>Congressional District</th>\n",
       "      <th>Grant Amount</th>\n",
       "      <th>Grant From Date</th>\n",
       "      <th>Grant To Date</th>\n",
       "    </tr>\n",
       "  </thead>\n",
       "  <tbody>\n",
       "    <tr>\n",
       "      <th>0</th>\n",
       "      <td>NaN</td>\n",
       "      <td>NaN</td>\n",
       "      <td>NaN</td>\n",
       "      <td>NaN</td>\n",
       "      <td>NaN</td>\n",
       "      <td>NaN</td>\n",
       "      <td>NaN</td>\n",
       "      <td>NaN</td>\n",
       "      <td>NaN</td>\n",
       "      <td>NaN</td>\n",
       "      <td>NaN</td>\n",
       "      <td>NaN</td>\n",
       "      <td>NaT</td>\n",
       "      <td>NaT</td>\n",
       "    </tr>\n",
       "    <tr>\n",
       "      <th>1</th>\n",
       "      <td>Artists for Humanity, Inc.</td>\n",
       "      <td>aka AFH</td>\n",
       "      <td>Visual Arts</td>\n",
       "      <td>Grants for Arts Projects</td>\n",
       "      <td>1895283-41-22</td>\n",
       "      <td>Boston</td>\n",
       "      <td>MA</td>\n",
       "      <td>02127-1112</td>\n",
       "      <td>Purpose: To support a painting and photography...</td>\n",
       "      <td>2022.0</td>\n",
       "      <td>8.0</td>\n",
       "      <td>20000.0</td>\n",
       "      <td>2022-06-01</td>\n",
       "      <td>2023-05-31</td>\n",
       "    </tr>\n",
       "    <tr>\n",
       "      <th>2</th>\n",
       "      <td>Artists for Humanity, Inc.</td>\n",
       "      <td>aka AFH</td>\n",
       "      <td>Visual Arts</td>\n",
       "      <td>Grants for Arts Projects</td>\n",
       "      <td>1884032-41-21</td>\n",
       "      <td>Boston</td>\n",
       "      <td>MA</td>\n",
       "      <td>02127-1112</td>\n",
       "      <td>To support a painting, photography, and video ...</td>\n",
       "      <td>2021.0</td>\n",
       "      <td>8.0</td>\n",
       "      <td>30000.0</td>\n",
       "      <td>2021-06-01</td>\n",
       "      <td>2022-05-31</td>\n",
       "    </tr>\n",
       "    <tr>\n",
       "      <th>3</th>\n",
       "      <td>Artists for Humanity, Inc.</td>\n",
       "      <td>aka AFH</td>\n",
       "      <td>Visual Arts</td>\n",
       "      <td>Art Works</td>\n",
       "      <td>1861577-41-20</td>\n",
       "      <td>Boston</td>\n",
       "      <td>MA</td>\n",
       "      <td>02127-1112</td>\n",
       "      <td>To support a painting, photography, and video ...</td>\n",
       "      <td>2020.0</td>\n",
       "      <td>8.0</td>\n",
       "      <td>25000.0</td>\n",
       "      <td>2020-06-01</td>\n",
       "      <td>2021-05-31</td>\n",
       "    </tr>\n",
       "    <tr>\n",
       "      <th>4</th>\n",
       "      <td>Artists for Humanity, Inc.</td>\n",
       "      <td>aka AFH</td>\n",
       "      <td>Visual Arts</td>\n",
       "      <td>Art Works</td>\n",
       "      <td>1808125-41-18</td>\n",
       "      <td>Boston</td>\n",
       "      <td>MA</td>\n",
       "      <td>02127-1112</td>\n",
       "      <td>To support a painting, photography, and video ...</td>\n",
       "      <td>2018.0</td>\n",
       "      <td>8.0</td>\n",
       "      <td>40000.0</td>\n",
       "      <td>2018-06-01</td>\n",
       "      <td>2019-05-31</td>\n",
       "    </tr>\n",
       "  </tbody>\n",
       "</table>\n",
       "</div>"
      ],
      "text/plain": [
       "            Organization Name Popular Name Discipline / Field  \\\n",
       "0                         NaN          NaN                NaN   \n",
       "1  Artists for Humanity, Inc.      aka AFH        Visual Arts   \n",
       "2  Artists for Humanity, Inc.      aka AFH        Visual Arts   \n",
       "3  Artists for Humanity, Inc.      aka AFH        Visual Arts   \n",
       "4  Artists for Humanity, Inc.      aka AFH        Visual Arts   \n",
       "\n",
       "                   Category Application Number    City State         Zip  \\\n",
       "0                       NaN                NaN     NaN   NaN         NaN   \n",
       "1  Grants for Arts Projects      1895283-41-22  Boston    MA  02127-1112   \n",
       "2  Grants for Arts Projects      1884032-41-21  Boston    MA  02127-1112   \n",
       "3                 Art Works      1861577-41-20  Boston    MA  02127-1112   \n",
       "4                 Art Works      1808125-41-18  Boston    MA  02127-1112   \n",
       "\n",
       "                                 Project Description  Fiscal Year  \\\n",
       "0                                                NaN          NaN   \n",
       "1  Purpose: To support a painting and photography...       2022.0   \n",
       "2  To support a painting, photography, and video ...       2021.0   \n",
       "3  To support a painting, photography, and video ...       2020.0   \n",
       "4  To support a painting, photography, and video ...       2018.0   \n",
       "\n",
       "   Congressional District  Grant Amount Grant From Date Grant To Date  \n",
       "0                     NaN           NaN             NaT           NaT  \n",
       "1                     8.0       20000.0      2022-06-01    2023-05-31  \n",
       "2                     8.0       30000.0      2021-06-01    2022-05-31  \n",
       "3                     8.0       25000.0      2020-06-01    2021-05-31  \n",
       "4                     8.0       40000.0      2018-06-01    2019-05-31  "
      ]
     },
     "execution_count": 58,
     "metadata": {},
     "output_type": "execute_result"
    }
   ],
   "source": [
    "df_boston.head(5)"
   ]
  },
  {
   "cell_type": "code",
   "execution_count": 59,
   "id": "4edc19b4",
   "metadata": {},
   "outputs": [],
   "source": [
    "def tidy_dfs(dfs):\n",
    "    for df in dfs:\n",
    "        # Drop first row\n",
    "        df.drop(df.index[0], inplace=True)\n",
    "        # Replace \n",
    "        df['Fiscal Year']=df['Fiscal Year'].astype(str).str.replace('.0', ' ', regex=False)\n",
    "        df['Grant Amount']=df['Grant Amount'].astype(str).str.replace('.0', ' ', regex=False)\n",
    "\n",
    "    return dfs\n",
    "\n",
    "df_boston, df_cbus, df_dallas, df_indy, df_nyc, df_sanfran = tidy_dfs([df_boston, df_cbus, df_dallas, df_indy, df_nyc, df_sanfran])"
   ]
  },
  {
   "cell_type": "code",
   "execution_count": 60,
   "id": "e7ff1e83",
   "metadata": {},
   "outputs": [
    {
     "data": {
      "text/html": [
       "<div>\n",
       "<style scoped>\n",
       "    .dataframe tbody tr th:only-of-type {\n",
       "        vertical-align: middle;\n",
       "    }\n",
       "\n",
       "    .dataframe tbody tr th {\n",
       "        vertical-align: top;\n",
       "    }\n",
       "\n",
       "    .dataframe thead th {\n",
       "        text-align: right;\n",
       "    }\n",
       "</style>\n",
       "<table border=\"1\" class=\"dataframe\">\n",
       "  <thead>\n",
       "    <tr style=\"text-align: right;\">\n",
       "      <th></th>\n",
       "      <th>Organization Name</th>\n",
       "      <th>Popular Name</th>\n",
       "      <th>Discipline / Field</th>\n",
       "      <th>Category</th>\n",
       "      <th>Application Number</th>\n",
       "      <th>City</th>\n",
       "      <th>State</th>\n",
       "      <th>Zip</th>\n",
       "      <th>Project Description</th>\n",
       "      <th>Fiscal Year</th>\n",
       "      <th>Congressional District</th>\n",
       "      <th>Grant Amount</th>\n",
       "      <th>Grant From Date</th>\n",
       "      <th>Grant To Date</th>\n",
       "    </tr>\n",
       "  </thead>\n",
       "  <tbody>\n",
       "    <tr>\n",
       "      <th>1</th>\n",
       "      <td>Arts Foundation of Olde Towne</td>\n",
       "      <td>NaN</td>\n",
       "      <td>Challenge America</td>\n",
       "      <td>Challenge America Community Arts Development</td>\n",
       "      <td>02-7816-1439</td>\n",
       "      <td>Columbus</td>\n",
       "      <td>OH</td>\n",
       "      <td>43215-3978</td>\n",
       "      <td>To support a Community Arts Development projec...</td>\n",
       "      <td>2002</td>\n",
       "      <td>3.0</td>\n",
       "      <td>10000</td>\n",
       "      <td>2002-09-01</td>\n",
       "      <td>2003-08-31</td>\n",
       "    </tr>\n",
       "    <tr>\n",
       "      <th>2</th>\n",
       "      <td>Arts Foundation of Olde Towne</td>\n",
       "      <td>NaN</td>\n",
       "      <td>Challenge America</td>\n",
       "      <td>Challenge America Community Arts Development</td>\n",
       "      <td>01-7816-1370</td>\n",
       "      <td>Columbus</td>\n",
       "      <td>OH</td>\n",
       "      <td>43215-3978</td>\n",
       "      <td>To support a Community Arts Development projec...</td>\n",
       "      <td>2001</td>\n",
       "      <td>3.0</td>\n",
       "      <td>10000</td>\n",
       "      <td>2001-09-01</td>\n",
       "      <td>2002-08-31</td>\n",
       "    </tr>\n",
       "    <tr>\n",
       "      <th>3</th>\n",
       "      <td>Awad, Ruth</td>\n",
       "      <td>NaN</td>\n",
       "      <td>Literary Arts</td>\n",
       "      <td>Literature Fellowships: Creative Writing</td>\n",
       "      <td>1868719-52-21</td>\n",
       "      <td>Columbus</td>\n",
       "      <td>OH</td>\n",
       "      <td>43202-2238</td>\n",
       "      <td>To support activities that contribute to your ...</td>\n",
       "      <td>2021</td>\n",
       "      <td>12.0</td>\n",
       "      <td>25000</td>\n",
       "      <td>2021-01-01</td>\n",
       "      <td>2022-12-31</td>\n",
       "    </tr>\n",
       "    <tr>\n",
       "      <th>4</th>\n",
       "      <td>Ballet Metropolitan, Inc.</td>\n",
       "      <td>aka BalletMet</td>\n",
       "      <td>Dance</td>\n",
       "      <td>Grants for Arts Projects</td>\n",
       "      <td>1904849-33-23</td>\n",
       "      <td>COLUMBUS</td>\n",
       "      <td>OH</td>\n",
       "      <td>43215-2131</td>\n",
       "      <td>Purpose: To support artist fees for a mixed-re...</td>\n",
       "      <td>2023</td>\n",
       "      <td>3.0</td>\n",
       "      <td>10000</td>\n",
       "      <td>2023-01-01</td>\n",
       "      <td>2023-06-30</td>\n",
       "    </tr>\n",
       "    <tr>\n",
       "      <th>5</th>\n",
       "      <td>Ballet Metropolitan, Inc.</td>\n",
       "      <td>aka BalletMet</td>\n",
       "      <td>Dance</td>\n",
       "      <td>Grants for Arts Projects</td>\n",
       "      <td>1888297-33-22</td>\n",
       "      <td>COLUMBUS</td>\n",
       "      <td>OH</td>\n",
       "      <td>43215-2131</td>\n",
       "      <td>Purpose: To support dancer salaries and licens...</td>\n",
       "      <td>2022</td>\n",
       "      <td>3.0</td>\n",
       "      <td>10000</td>\n",
       "      <td>2022-01-01</td>\n",
       "      <td>2022-06-30</td>\n",
       "    </tr>\n",
       "  </tbody>\n",
       "</table>\n",
       "</div>"
      ],
      "text/plain": [
       "               Organization Name   Popular Name Discipline / Field  \\\n",
       "1  Arts Foundation of Olde Towne            NaN  Challenge America   \n",
       "2  Arts Foundation of Olde Towne            NaN  Challenge America   \n",
       "3                     Awad, Ruth            NaN      Literary Arts   \n",
       "4      Ballet Metropolitan, Inc.  aka BalletMet              Dance   \n",
       "5      Ballet Metropolitan, Inc.  aka BalletMet              Dance   \n",
       "\n",
       "                                       Category Application Number      City  \\\n",
       "1  Challenge America Community Arts Development       02-7816-1439  Columbus   \n",
       "2  Challenge America Community Arts Development       01-7816-1370  Columbus   \n",
       "3      Literature Fellowships: Creative Writing      1868719-52-21  Columbus   \n",
       "4                      Grants for Arts Projects      1904849-33-23  COLUMBUS   \n",
       "5                      Grants for Arts Projects      1888297-33-22  COLUMBUS   \n",
       "\n",
       "  State         Zip                                Project Description  \\\n",
       "1    OH  43215-3978  To support a Community Arts Development projec...   \n",
       "2    OH  43215-3978  To support a Community Arts Development projec...   \n",
       "3    OH  43202-2238  To support activities that contribute to your ...   \n",
       "4    OH  43215-2131  Purpose: To support artist fees for a mixed-re...   \n",
       "5    OH  43215-2131  Purpose: To support dancer salaries and licens...   \n",
       "\n",
       "  Fiscal Year  Congressional District Grant Amount Grant From Date  \\\n",
       "1       2002                      3.0       10000       2002-09-01   \n",
       "2       2001                      3.0       10000       2001-09-01   \n",
       "3       2021                     12.0       25000       2021-01-01   \n",
       "4       2023                      3.0       10000       2023-01-01   \n",
       "5       2022                      3.0       10000       2022-01-01   \n",
       "\n",
       "  Grant To Date  \n",
       "1    2003-08-31  \n",
       "2    2002-08-31  \n",
       "3    2022-12-31  \n",
       "4    2023-06-30  \n",
       "5    2022-06-30  "
      ]
     },
     "execution_count": 60,
     "metadata": {},
     "output_type": "execute_result"
    }
   ],
   "source": [
    "df_cbus.head(5)"
   ]
  },
  {
   "cell_type": "code",
   "execution_count": 61,
   "id": "3498757b",
   "metadata": {},
   "outputs": [],
   "source": [
    "def total_grant(dfs):\n",
    "    for df in dfs:\n",
    "        #create total column for amount of grant money recieved\n",
    "        df['Grant Amount'] = pd.to_numeric(df['Grant Amount'],errors='coerce')\n",
    "        df['total_grant'] = df['Grant Amount'].sum()\n",
    "\n",
    "    return dfs\n",
    "\n",
    "df_boston, df_cbus, df_dallas, df_indy, df_nyc, df_sanfran = total_grant([df_boston, df_cbus, df_dallas, df_indy, df_nyc, df_sanfran])"
   ]
  },
  {
   "cell_type": "code",
   "execution_count": 84,
   "id": "fbbfb38c",
   "metadata": {},
   "outputs": [],
   "source": [
    "df_total=pd.DataFrame()\n",
    "df_total=df_total.append(df_boston.iloc[0])\n",
    "df_total=df_total.append(df_cbus.iloc[0])\n",
    "df_total=df_total.append(df_dallas.iloc[0])\n",
    "df_total=df_total.append(df_indy.iloc[0])\n",
    "df_total=df_total.append(df_nyc.iloc[0])\n",
    "df_total=df_total.append(df_sanfran.iloc[0])"
   ]
  },
  {
   "cell_type": "code",
   "execution_count": 88,
   "id": "eedaed54",
   "metadata": {},
   "outputs": [],
   "source": [
    "df_total1 = df_total.drop(['Category','Organization Name', 'Popular Name', 'Discipline / Field', 'Application Number'\n",
    "                           ,'Zip','Project Description','Fiscal Year', 'Congressional District' , \n",
    "                           'Grant Amount', 'Grant From Date', 'Grant To Date'], axis=1) #do not need these varibles "
   ]
  },
  {
   "cell_type": "code",
   "execution_count": 100,
   "id": "8eadb292",
   "metadata": {},
   "outputs": [
    {
     "data": {
      "text/html": [
       "<div>\n",
       "<style scoped>\n",
       "    .dataframe tbody tr th:only-of-type {\n",
       "        vertical-align: middle;\n",
       "    }\n",
       "\n",
       "    .dataframe tbody tr th {\n",
       "        vertical-align: top;\n",
       "    }\n",
       "\n",
       "    .dataframe thead th {\n",
       "        text-align: right;\n",
       "    }\n",
       "</style>\n",
       "<table border=\"1\" class=\"dataframe\">\n",
       "  <thead>\n",
       "    <tr style=\"text-align: right;\">\n",
       "      <th></th>\n",
       "      <th>City</th>\n",
       "      <th>State</th>\n",
       "      <th>total_grant</th>\n",
       "    </tr>\n",
       "  </thead>\n",
       "  <tbody>\n",
       "    <tr>\n",
       "      <th>1</th>\n",
       "      <td>Boston</td>\n",
       "      <td>MA</td>\n",
       "      <td>7.774451e+07</td>\n",
       "    </tr>\n",
       "    <tr>\n",
       "      <th>1</th>\n",
       "      <td>Columbus</td>\n",
       "      <td>OH</td>\n",
       "      <td>2.883987e+07</td>\n",
       "    </tr>\n",
       "    <tr>\n",
       "      <th>1</th>\n",
       "      <td>Dallas</td>\n",
       "      <td>TX</td>\n",
       "      <td>8.532753e+06</td>\n",
       "    </tr>\n",
       "    <tr>\n",
       "      <th>1</th>\n",
       "      <td>Indianapolis</td>\n",
       "      <td>IN</td>\n",
       "      <td>2.503262e+07</td>\n",
       "    </tr>\n",
       "    <tr>\n",
       "      <th>1</th>\n",
       "      <td>New York</td>\n",
       "      <td>NY</td>\n",
       "      <td>2.957641e+08</td>\n",
       "    </tr>\n",
       "    <tr>\n",
       "      <th>1</th>\n",
       "      <td>San Francisco</td>\n",
       "      <td>CA</td>\n",
       "      <td>6.293751e+07</td>\n",
       "    </tr>\n",
       "  </tbody>\n",
       "</table>\n",
       "</div>"
      ],
      "text/plain": [
       "            City State   total_grant\n",
       "1         Boston    MA  7.774451e+07\n",
       "1       Columbus    OH  2.883987e+07\n",
       "1         Dallas    TX  8.532753e+06\n",
       "1   Indianapolis    IN  2.503262e+07\n",
       "1       New York    NY  2.957641e+08\n",
       "1  San Francisco    CA  6.293751e+07"
      ]
     },
     "execution_count": 100,
     "metadata": {},
     "output_type": "execute_result"
    }
   ],
   "source": [
    "df_total1"
   ]
  },
  {
   "cell_type": "code",
   "execution_count": 92,
   "id": "2d2d7ce6",
   "metadata": {},
   "outputs": [],
   "source": [
    "all_cities = pd.concat([df_boston, df_cbus, df_dallas, df_indy, df_nyc, df_sanfran],    # Combine vertically\n",
    "                          ignore_index = True,\n",
    "                          sort = False)"
   ]
  },
  {
   "cell_type": "code",
   "execution_count": 93,
   "id": "5f712629",
   "metadata": {},
   "outputs": [
    {
     "data": {
      "text/plain": [
       "11800"
      ]
     },
     "execution_count": 93,
     "metadata": {},
     "output_type": "execute_result"
    }
   ],
   "source": [
    "len(all_cities)"
   ]
  },
  {
   "cell_type": "code",
   "execution_count": 94,
   "id": "72d568e6",
   "metadata": {},
   "outputs": [],
   "source": [
    "all_cities.to_csv('all_cities_nea.csv')"
   ]
  },
  {
   "cell_type": "code",
   "execution_count": 98,
   "id": "b0b4b458",
   "metadata": {},
   "outputs": [],
   "source": [
    "df_total1['City']=df_total1['City'].astype(str).apply(str.title)"
   ]
  },
  {
   "cell_type": "code",
   "execution_count": 99,
   "id": "33b89278",
   "metadata": {},
   "outputs": [
    {
     "data": {
      "text/plain": [
       "1           Boston\n",
       "1         Columbus\n",
       "1           Dallas\n",
       "1     Indianapolis\n",
       "1         New York\n",
       "1    San Francisco\n",
       "Name: City, dtype: object"
      ]
     },
     "execution_count": 99,
     "metadata": {},
     "output_type": "execute_result"
    }
   ],
   "source": [
    "df_total1['City']"
   ]
  },
  {
   "cell_type": "code",
   "execution_count": 102,
   "id": "ca9c38da",
   "metadata": {},
   "outputs": [],
   "source": [
    "os.chdir(\"/Users/margaretdemchak/Desktop/DA_401/gdp_data\")"
   ]
  },
  {
   "cell_type": "code",
   "execution_count": 179,
   "id": "6fbddce7",
   "metadata": {},
   "outputs": [
    {
     "data": {
      "text/html": [
       "<div>\n",
       "<style scoped>\n",
       "    .dataframe tbody tr th:only-of-type {\n",
       "        vertical-align: middle;\n",
       "    }\n",
       "\n",
       "    .dataframe tbody tr th {\n",
       "        vertical-align: top;\n",
       "    }\n",
       "\n",
       "    .dataframe thead th {\n",
       "        text-align: right;\n",
       "    }\n",
       "</style>\n",
       "<table border=\"1\" class=\"dataframe\">\n",
       "  <thead>\n",
       "    <tr style=\"text-align: right;\">\n",
       "      <th></th>\n",
       "      <th>Unnamed: 0</th>\n",
       "      <th>Unnamed: 1</th>\n",
       "    </tr>\n",
       "  </thead>\n",
       "  <tbody>\n",
       "    <tr>\n",
       "      <th>0</th>\n",
       "      <td>Midland, TX</td>\n",
       "      <td>210008.44</td>\n",
       "    </tr>\n",
       "    <tr>\n",
       "      <th>1</th>\n",
       "      <td>San Jose-Sunnyvale-Santa Clara, CA</td>\n",
       "      <td>171505.81</td>\n",
       "    </tr>\n",
       "    <tr>\n",
       "      <th>2</th>\n",
       "      <td>San Francisco-Oakland-Berkeley, CA</td>\n",
       "      <td>110942.96</td>\n",
       "    </tr>\n",
       "    <tr>\n",
       "      <th>3</th>\n",
       "      <td>Seattle-Tacoma-Bellevue, WA</td>\n",
       "      <td>93955.57</td>\n",
       "    </tr>\n",
       "    <tr>\n",
       "      <th>4</th>\n",
       "      <td>Trenton-Princeton, NJ</td>\n",
       "      <td>84972.51</td>\n",
       "    </tr>\n",
       "    <tr>\n",
       "      <th>...</th>\n",
       "      <td>...</td>\n",
       "      <td>...</td>\n",
       "    </tr>\n",
       "    <tr>\n",
       "      <th>95</th>\n",
       "      <td>Lincoln, NE</td>\n",
       "      <td>52762.25</td>\n",
       "    </tr>\n",
       "    <tr>\n",
       "      <th>96</th>\n",
       "      <td>Iowa City, IA</td>\n",
       "      <td>52728.00</td>\n",
       "    </tr>\n",
       "    <tr>\n",
       "      <th>97</th>\n",
       "      <td>New Haven-Milford, CT</td>\n",
       "      <td>52718.21</td>\n",
       "    </tr>\n",
       "    <tr>\n",
       "      <th>98</th>\n",
       "      <td>Urban Honolulu, HI</td>\n",
       "      <td>52352.28</td>\n",
       "    </tr>\n",
       "    <tr>\n",
       "      <th>99</th>\n",
       "      <td>Billings, MT</td>\n",
       "      <td>52317.24</td>\n",
       "    </tr>\n",
       "  </tbody>\n",
       "</table>\n",
       "<p>100 rows × 2 columns</p>\n",
       "</div>"
      ],
      "text/plain": [
       "                             Unnamed: 0  Unnamed: 1\n",
       "0                          Midland, TX    210008.44\n",
       "1   San Jose-Sunnyvale-Santa Clara, CA    171505.81\n",
       "2   San Francisco-Oakland-Berkeley, CA    110942.96\n",
       "3          Seattle-Tacoma-Bellevue, WA     93955.57\n",
       "4                Trenton-Princeton, NJ     84972.51\n",
       "..                                  ...         ...\n",
       "95                         Lincoln, NE     52762.25\n",
       "96                       Iowa City, IA     52728.00\n",
       "97               New Haven-Milford, CT     52718.21\n",
       "98                  Urban Honolulu, HI     52352.28\n",
       "99                        Billings, MT     52317.24\n",
       "\n",
       "[100 rows x 2 columns]"
      ]
     },
     "execution_count": 179,
     "metadata": {},
     "output_type": "execute_result"
    }
   ],
   "source": [
    "#data from Bureau of Economic Analysis\n",
    "gdp_data = pd.ExcelFile('gdp-per-capita-2020-by-metro-area.xlsx')\n",
    "df_gdp = pd.read_excel(gdp_data, 'Data')\n",
    "df_gdp"
   ]
  },
  {
   "cell_type": "code",
   "execution_count": 180,
   "id": "cdda89fc",
   "metadata": {},
   "outputs": [],
   "source": [
    "df_gdp.columns = ['metro_area', 'gdp_per_capita']"
   ]
  },
  {
   "cell_type": "code",
   "execution_count": 181,
   "id": "24d89293",
   "metadata": {},
   "outputs": [
    {
     "data": {
      "text/html": [
       "<div>\n",
       "<style scoped>\n",
       "    .dataframe tbody tr th:only-of-type {\n",
       "        vertical-align: middle;\n",
       "    }\n",
       "\n",
       "    .dataframe tbody tr th {\n",
       "        vertical-align: top;\n",
       "    }\n",
       "\n",
       "    .dataframe thead th {\n",
       "        text-align: right;\n",
       "    }\n",
       "</style>\n",
       "<table border=\"1\" class=\"dataframe\">\n",
       "  <thead>\n",
       "    <tr style=\"text-align: right;\">\n",
       "      <th></th>\n",
       "      <th>metro_area</th>\n",
       "      <th>gdp_per_capita</th>\n",
       "    </tr>\n",
       "  </thead>\n",
       "  <tbody>\n",
       "    <tr>\n",
       "      <th>0</th>\n",
       "      <td>Midland, TX</td>\n",
       "      <td>210008.44</td>\n",
       "    </tr>\n",
       "    <tr>\n",
       "      <th>1</th>\n",
       "      <td>San Jose-Sunnyvale-Santa Clara, CA</td>\n",
       "      <td>171505.81</td>\n",
       "    </tr>\n",
       "    <tr>\n",
       "      <th>2</th>\n",
       "      <td>San Francisco-Oakland-Berkeley, CA</td>\n",
       "      <td>110942.96</td>\n",
       "    </tr>\n",
       "    <tr>\n",
       "      <th>3</th>\n",
       "      <td>Seattle-Tacoma-Bellevue, WA</td>\n",
       "      <td>93955.57</td>\n",
       "    </tr>\n",
       "    <tr>\n",
       "      <th>4</th>\n",
       "      <td>Trenton-Princeton, NJ</td>\n",
       "      <td>84972.51</td>\n",
       "    </tr>\n",
       "  </tbody>\n",
       "</table>\n",
       "</div>"
      ],
      "text/plain": [
       "                            metro_area  gdp_per_capita\n",
       "0                         Midland, TX        210008.44\n",
       "1  San Jose-Sunnyvale-Santa Clara, CA        171505.81\n",
       "2  San Francisco-Oakland-Berkeley, CA        110942.96\n",
       "3         Seattle-Tacoma-Bellevue, WA         93955.57\n",
       "4               Trenton-Princeton, NJ         84972.51"
      ]
     },
     "execution_count": 181,
     "metadata": {},
     "output_type": "execute_result"
    }
   ],
   "source": [
    "df_gdp.head(5)"
   ]
  },
  {
   "cell_type": "code",
   "execution_count": 182,
   "id": "042502b6",
   "metadata": {},
   "outputs": [],
   "source": [
    "df_gdp6 = df_gdp[(df_gdp[\"metro_area\"] == \"Dallas-Fort Worth-Arlington, TX \") | (df_gdp[\"metro_area\"] == \"Indianapolis-Carmel-Anderson, IN \") \n",
    "                 | (df_gdp[\"metro_area\"] == \"Columbus, OH \")| \n",
    "                 (df_gdp[\"metro_area\"] == \"New York-Newark-Jersey City, NY-NJ-PA \")| \n",
    "                 (df_gdp[\"metro_area\"] == \"Boston-Cambridge-Newton, MA-NH \")| (df_gdp[\"metro_area\"] == \"San Francisco-Oakland-Berkeley, CA \")]"
   ]
  },
  {
   "cell_type": "code",
   "execution_count": 183,
   "id": "67e48364",
   "metadata": {},
   "outputs": [
    {
     "data": {
      "text/html": [
       "<div>\n",
       "<style scoped>\n",
       "    .dataframe tbody tr th:only-of-type {\n",
       "        vertical-align: middle;\n",
       "    }\n",
       "\n",
       "    .dataframe tbody tr th {\n",
       "        vertical-align: top;\n",
       "    }\n",
       "\n",
       "    .dataframe thead th {\n",
       "        text-align: right;\n",
       "    }\n",
       "</style>\n",
       "<table border=\"1\" class=\"dataframe\">\n",
       "  <thead>\n",
       "    <tr style=\"text-align: right;\">\n",
       "      <th></th>\n",
       "      <th>metro_area</th>\n",
       "      <th>gdp_per_capita</th>\n",
       "    </tr>\n",
       "  </thead>\n",
       "  <tbody>\n",
       "    <tr>\n",
       "      <th>2</th>\n",
       "      <td>San Francisco-Oakland-Berkeley, CA</td>\n",
       "      <td>110942.96</td>\n",
       "    </tr>\n",
       "    <tr>\n",
       "      <th>5</th>\n",
       "      <td>Boston-Cambridge-Newton, MA-NH</td>\n",
       "      <td>83596.75</td>\n",
       "    </tr>\n",
       "    <tr>\n",
       "      <th>10</th>\n",
       "      <td>New York-Newark-Jersey City, NY-NJ-PA</td>\n",
       "      <td>74689.26</td>\n",
       "    </tr>\n",
       "    <tr>\n",
       "      <th>33</th>\n",
       "      <td>Dallas-Fort Worth-Arlington, TX</td>\n",
       "      <td>62255.63</td>\n",
       "    </tr>\n",
       "    <tr>\n",
       "      <th>45</th>\n",
       "      <td>Indianapolis-Carmel-Anderson, IN</td>\n",
       "      <td>59322.19</td>\n",
       "    </tr>\n",
       "    <tr>\n",
       "      <th>71</th>\n",
       "      <td>Columbus, OH</td>\n",
       "      <td>54708.92</td>\n",
       "    </tr>\n",
       "  </tbody>\n",
       "</table>\n",
       "</div>"
      ],
      "text/plain": [
       "                                metro_area  gdp_per_capita\n",
       "2      San Francisco-Oakland-Berkeley, CA        110942.96\n",
       "5          Boston-Cambridge-Newton, MA-NH         83596.75\n",
       "10  New York-Newark-Jersey City, NY-NJ-PA         74689.26\n",
       "33        Dallas-Fort Worth-Arlington, TX         62255.63\n",
       "45       Indianapolis-Carmel-Anderson, IN         59322.19\n",
       "71                           Columbus, OH         54708.92"
      ]
     },
     "execution_count": 183,
     "metadata": {},
     "output_type": "execute_result"
    }
   ],
   "source": [
    "print(df_gdp6)"
   ]
  },
  {
   "cell_type": "code",
   "execution_count": 320,
   "id": "040b5e18",
   "metadata": {
    "scrolled": true
   },
   "outputs": [
    {
     "name": "stderr",
     "output_type": "stream",
     "text": [
      "/opt/anaconda3/lib/python3.7/site-packages/ipykernel_launcher.py:1: FutureWarning: Columnar iteration over characters will be deprecated in future releases.\n",
      "  \"\"\"Entry point for launching an IPython kernel.\n",
      "/opt/anaconda3/lib/python3.7/site-packages/ipykernel_launcher.py:1: SettingWithCopyWarning: \n",
      "A value is trying to be set on a copy of a slice from a DataFrame.\n",
      "Try using .loc[row_indexer,col_indexer] = value instead\n",
      "\n",
      "See the caveats in the documentation: https://pandas.pydata.org/pandas-docs/stable/user_guide/indexing.html#returning-a-view-versus-a-copy\n",
      "  \"\"\"Entry point for launching an IPython kernel.\n"
     ]
    }
   ],
   "source": [
    "df_gdp6['Metro_area'], df_gdp6['State'] = df_gdp6['metro_area'].str.rsplit(',', 1).str"
   ]
  },
  {
   "cell_type": "code",
   "execution_count": 321,
   "id": "77f28867",
   "metadata": {},
   "outputs": [
    {
     "data": {
      "text/html": [
       "<div>\n",
       "<style scoped>\n",
       "    .dataframe tbody tr th:only-of-type {\n",
       "        vertical-align: middle;\n",
       "    }\n",
       "\n",
       "    .dataframe tbody tr th {\n",
       "        vertical-align: top;\n",
       "    }\n",
       "\n",
       "    .dataframe thead th {\n",
       "        text-align: right;\n",
       "    }\n",
       "</style>\n",
       "<table border=\"1\" class=\"dataframe\">\n",
       "  <thead>\n",
       "    <tr style=\"text-align: right;\">\n",
       "      <th></th>\n",
       "      <th>metro_area</th>\n",
       "      <th>gdp_per_capita</th>\n",
       "      <th>Metro_area</th>\n",
       "      <th>State</th>\n",
       "    </tr>\n",
       "  </thead>\n",
       "  <tbody>\n",
       "    <tr>\n",
       "      <th>2</th>\n",
       "      <td>San Francisco-Oakland-Berkeley, CA</td>\n",
       "      <td>110942.96</td>\n",
       "      <td>San Francisco-Oakland-Berkeley</td>\n",
       "      <td>CA</td>\n",
       "    </tr>\n",
       "    <tr>\n",
       "      <th>5</th>\n",
       "      <td>Boston-Cambridge-Newton, MA-NH</td>\n",
       "      <td>83596.75</td>\n",
       "      <td>Boston-Cambridge-Newton</td>\n",
       "      <td>MA-NH</td>\n",
       "    </tr>\n",
       "    <tr>\n",
       "      <th>10</th>\n",
       "      <td>New York-Newark-Jersey City, NY-NJ-PA</td>\n",
       "      <td>74689.26</td>\n",
       "      <td>New York-Newark-Jersey City</td>\n",
       "      <td>NY-NJ-PA</td>\n",
       "    </tr>\n",
       "    <tr>\n",
       "      <th>33</th>\n",
       "      <td>Dallas-Fort Worth-Arlington, TX</td>\n",
       "      <td>62255.63</td>\n",
       "      <td>Dallas-Fort Worth-Arlington</td>\n",
       "      <td>TX</td>\n",
       "    </tr>\n",
       "    <tr>\n",
       "      <th>45</th>\n",
       "      <td>Indianapolis-Carmel-Anderson, IN</td>\n",
       "      <td>59322.19</td>\n",
       "      <td>Indianapolis-Carmel-Anderson</td>\n",
       "      <td>IN</td>\n",
       "    </tr>\n",
       "    <tr>\n",
       "      <th>71</th>\n",
       "      <td>Columbus, OH</td>\n",
       "      <td>54708.92</td>\n",
       "      <td>Columbus</td>\n",
       "      <td>OH</td>\n",
       "    </tr>\n",
       "  </tbody>\n",
       "</table>\n",
       "</div>"
      ],
      "text/plain": [
       "                                metro_area  gdp_per_capita  \\\n",
       "2      San Francisco-Oakland-Berkeley, CA        110942.96   \n",
       "5          Boston-Cambridge-Newton, MA-NH         83596.75   \n",
       "10  New York-Newark-Jersey City, NY-NJ-PA         74689.26   \n",
       "33        Dallas-Fort Worth-Arlington, TX         62255.63   \n",
       "45       Indianapolis-Carmel-Anderson, IN         59322.19   \n",
       "71                           Columbus, OH         54708.92   \n",
       "\n",
       "                        Metro_area       State  \n",
       "2   San Francisco-Oakland-Berkeley         CA   \n",
       "5          Boston-Cambridge-Newton      MA-NH   \n",
       "10     New York-Newark-Jersey City   NY-NJ-PA   \n",
       "33     Dallas-Fort Worth-Arlington         TX   \n",
       "45    Indianapolis-Carmel-Anderson         IN   \n",
       "71                        Columbus         OH   "
      ]
     },
     "execution_count": 321,
     "metadata": {},
     "output_type": "execute_result"
    }
   ],
   "source": [
    "df_gdp6"
   ]
  },
  {
   "cell_type": "code",
   "execution_count": 324,
   "id": "5d299ae7",
   "metadata": {},
   "outputs": [
    {
     "name": "stderr",
     "output_type": "stream",
     "text": [
      "/opt/anaconda3/lib/python3.7/site-packages/ipykernel_launcher.py:1: SettingWithCopyWarning: \n",
      "A value is trying to be set on a copy of a slice from a DataFrame.\n",
      "Try using .loc[row_indexer,col_indexer] = value instead\n",
      "\n",
      "See the caveats in the documentation: https://pandas.pydata.org/pandas-docs/stable/user_guide/indexing.html#returning-a-view-versus-a-copy\n",
      "  \"\"\"Entry point for launching an IPython kernel.\n"
     ]
    }
   ],
   "source": [
    "df_gdp6['State'] = df_gdp6['State'].str.replace(\"-NH\", \"\")"
   ]
  },
  {
   "cell_type": "code",
   "execution_count": 327,
   "id": "514022d4",
   "metadata": {},
   "outputs": [
    {
     "name": "stderr",
     "output_type": "stream",
     "text": [
      "/opt/anaconda3/lib/python3.7/site-packages/ipykernel_launcher.py:1: SettingWithCopyWarning: \n",
      "A value is trying to be set on a copy of a slice from a DataFrame.\n",
      "Try using .loc[row_indexer,col_indexer] = value instead\n",
      "\n",
      "See the caveats in the documentation: https://pandas.pydata.org/pandas-docs/stable/user_guide/indexing.html#returning-a-view-versus-a-copy\n",
      "  \"\"\"Entry point for launching an IPython kernel.\n"
     ]
    }
   ],
   "source": [
    "df_gdp6['State'] = df_gdp6['State'].str.replace(\"-NJ-PA\", \"\")"
   ]
  },
  {
   "cell_type": "code",
   "execution_count": 328,
   "id": "00503200",
   "metadata": {},
   "outputs": [
    {
     "data": {
      "text/html": [
       "<div>\n",
       "<style scoped>\n",
       "    .dataframe tbody tr th:only-of-type {\n",
       "        vertical-align: middle;\n",
       "    }\n",
       "\n",
       "    .dataframe tbody tr th {\n",
       "        vertical-align: top;\n",
       "    }\n",
       "\n",
       "    .dataframe thead th {\n",
       "        text-align: right;\n",
       "    }\n",
       "</style>\n",
       "<table border=\"1\" class=\"dataframe\">\n",
       "  <thead>\n",
       "    <tr style=\"text-align: right;\">\n",
       "      <th></th>\n",
       "      <th>metro_area</th>\n",
       "      <th>gdp_per_capita</th>\n",
       "      <th>Metro_area</th>\n",
       "      <th>State</th>\n",
       "    </tr>\n",
       "  </thead>\n",
       "  <tbody>\n",
       "    <tr>\n",
       "      <th>2</th>\n",
       "      <td>San Francisco-Oakland-Berkeley, CA</td>\n",
       "      <td>110942.96</td>\n",
       "      <td>San Francisco-Oakland-Berkeley</td>\n",
       "      <td>CA</td>\n",
       "    </tr>\n",
       "    <tr>\n",
       "      <th>5</th>\n",
       "      <td>Boston-Cambridge-Newton, MA-NH</td>\n",
       "      <td>83596.75</td>\n",
       "      <td>Boston-Cambridge-Newton</td>\n",
       "      <td>MA</td>\n",
       "    </tr>\n",
       "    <tr>\n",
       "      <th>10</th>\n",
       "      <td>New York-Newark-Jersey City, NY-NJ-PA</td>\n",
       "      <td>74689.26</td>\n",
       "      <td>New York-Newark-Jersey City</td>\n",
       "      <td>NY</td>\n",
       "    </tr>\n",
       "    <tr>\n",
       "      <th>33</th>\n",
       "      <td>Dallas-Fort Worth-Arlington, TX</td>\n",
       "      <td>62255.63</td>\n",
       "      <td>Dallas-Fort Worth-Arlington</td>\n",
       "      <td>TX</td>\n",
       "    </tr>\n",
       "    <tr>\n",
       "      <th>45</th>\n",
       "      <td>Indianapolis-Carmel-Anderson, IN</td>\n",
       "      <td>59322.19</td>\n",
       "      <td>Indianapolis-Carmel-Anderson</td>\n",
       "      <td>IN</td>\n",
       "    </tr>\n",
       "    <tr>\n",
       "      <th>71</th>\n",
       "      <td>Columbus, OH</td>\n",
       "      <td>54708.92</td>\n",
       "      <td>Columbus</td>\n",
       "      <td>OH</td>\n",
       "    </tr>\n",
       "  </tbody>\n",
       "</table>\n",
       "</div>"
      ],
      "text/plain": [
       "                                metro_area  gdp_per_capita  \\\n",
       "2      San Francisco-Oakland-Berkeley, CA        110942.96   \n",
       "5          Boston-Cambridge-Newton, MA-NH         83596.75   \n",
       "10  New York-Newark-Jersey City, NY-NJ-PA         74689.26   \n",
       "33        Dallas-Fort Worth-Arlington, TX         62255.63   \n",
       "45       Indianapolis-Carmel-Anderson, IN         59322.19   \n",
       "71                           Columbus, OH         54708.92   \n",
       "\n",
       "                        Metro_area State  \n",
       "2   San Francisco-Oakland-Berkeley   CA   \n",
       "5          Boston-Cambridge-Newton   MA   \n",
       "10     New York-Newark-Jersey City   NY   \n",
       "33     Dallas-Fort Worth-Arlington   TX   \n",
       "45    Indianapolis-Carmel-Anderson   IN   \n",
       "71                        Columbus   OH   "
      ]
     },
     "execution_count": 328,
     "metadata": {},
     "output_type": "execute_result"
    }
   ],
   "source": [
    "print(df_gdp6)"
   ]
  },
  {
   "cell_type": "code",
   "execution_count": 365,
   "id": "9a7fbec6",
   "metadata": {},
   "outputs": [
    {
     "data": {
      "text/html": [
       "<div>\n",
       "<style scoped>\n",
       "    .dataframe tbody tr th:only-of-type {\n",
       "        vertical-align: middle;\n",
       "    }\n",
       "\n",
       "    .dataframe tbody tr th {\n",
       "        vertical-align: top;\n",
       "    }\n",
       "\n",
       "    .dataframe thead th {\n",
       "        text-align: right;\n",
       "    }\n",
       "</style>\n",
       "<table border=\"1\" class=\"dataframe\">\n",
       "  <thead>\n",
       "    <tr style=\"text-align: right;\">\n",
       "      <th></th>\n",
       "      <th>City</th>\n",
       "      <th>State</th>\n",
       "      <th>total_grant</th>\n",
       "    </tr>\n",
       "  </thead>\n",
       "  <tbody>\n",
       "    <tr>\n",
       "      <th>1</th>\n",
       "      <td>Boston</td>\n",
       "      <td>MA</td>\n",
       "      <td>7.774451e+07</td>\n",
       "    </tr>\n",
       "    <tr>\n",
       "      <th>1</th>\n",
       "      <td>Columbus</td>\n",
       "      <td>OH</td>\n",
       "      <td>2.883987e+07</td>\n",
       "    </tr>\n",
       "    <tr>\n",
       "      <th>1</th>\n",
       "      <td>Dallas</td>\n",
       "      <td>TX</td>\n",
       "      <td>8.532753e+06</td>\n",
       "    </tr>\n",
       "    <tr>\n",
       "      <th>1</th>\n",
       "      <td>Indianapolis</td>\n",
       "      <td>IN</td>\n",
       "      <td>2.503262e+07</td>\n",
       "    </tr>\n",
       "    <tr>\n",
       "      <th>1</th>\n",
       "      <td>New York</td>\n",
       "      <td>NY</td>\n",
       "      <td>2.957641e+08</td>\n",
       "    </tr>\n",
       "    <tr>\n",
       "      <th>1</th>\n",
       "      <td>San Francisco</td>\n",
       "      <td>CA</td>\n",
       "      <td>6.293751e+07</td>\n",
       "    </tr>\n",
       "  </tbody>\n",
       "</table>\n",
       "</div>"
      ],
      "text/plain": [
       "            City State   total_grant\n",
       "1         Boston    MA  7.774451e+07\n",
       "1       Columbus    OH  2.883987e+07\n",
       "1         Dallas    TX  8.532753e+06\n",
       "1   Indianapolis    IN  2.503262e+07\n",
       "1       New York    NY  2.957641e+08\n",
       "1  San Francisco    CA  6.293751e+07"
      ]
     },
     "execution_count": 365,
     "metadata": {},
     "output_type": "execute_result"
    }
   ],
   "source": [
    "df_total1"
   ]
  },
  {
   "cell_type": "code",
   "execution_count": 350,
   "id": "dae456a9",
   "metadata": {},
   "outputs": [
    {
     "name": "stderr",
     "output_type": "stream",
     "text": [
      "/opt/anaconda3/lib/python3.7/site-packages/ipykernel_launcher.py:5: SettingWithCopyWarning: \n",
      "A value is trying to be set on a copy of a slice from a DataFrame.\n",
      "Try using .loc[row_indexer,col_indexer] = value instead\n",
      "\n",
      "See the caveats in the documentation: https://pandas.pydata.org/pandas-docs/stable/user_guide/indexing.html#returning-a-view-versus-a-copy\n",
      "  \"\"\"\n"
     ]
    }
   ],
   "source": [
    "total_grant = ['6.293751e+07', '7.774451e+07', '2.957641e+08', '8.532753e+06','2.503262e+07','2.883987e+07']\n",
    "\n",
    "# equating it to the list\n",
    "df_gdp6['total_grant'] = total_grant\n",
    "  "
   ]
  },
  {
   "cell_type": "code",
   "execution_count": 360,
   "id": "9b38a1a4",
   "metadata": {
    "scrolled": true
   },
   "outputs": [
    {
     "name": "stderr",
     "output_type": "stream",
     "text": [
      "/opt/anaconda3/lib/python3.7/site-packages/ipykernel_launcher.py:1: SettingWithCopyWarning: \n",
      "A value is trying to be set on a copy of a slice from a DataFrame.\n",
      "Try using .loc[row_indexer,col_indexer] = value instead\n",
      "\n",
      "See the caveats in the documentation: https://pandas.pydata.org/pandas-docs/stable/user_guide/indexing.html#returning-a-view-versus-a-copy\n",
      "  \"\"\"Entry point for launching an IPython kernel.\n"
     ]
    }
   ],
   "source": [
    "df_gdp6['total_grant']=df_gdp6['total_grant'].astype(float)"
   ]
  },
  {
   "cell_type": "code",
   "execution_count": 362,
   "id": "9fc963da",
   "metadata": {},
   "outputs": [
    {
     "name": "stdout",
     "output_type": "stream",
     "text": [
      "                                metro_area  gdp_per_capita  \\\n",
      "2      San Francisco-Oakland-Berkeley, CA        110942.96   \n",
      "5          Boston-Cambridge-Newton, MA-NH         83596.75   \n",
      "10  New York-Newark-Jersey City, NY-NJ-PA         74689.26   \n",
      "33        Dallas-Fort Worth-Arlington, TX         62255.63   \n",
      "45       Indianapolis-Carmel-Anderson, IN         59322.19   \n",
      "71                           Columbus, OH         54708.92   \n",
      "\n",
      "                        Metro_area State  total_grant  grant_per_gdp  \n",
      "2   San Francisco-Oakland-Berkeley   CA    62937510.0          567.0  \n",
      "5          Boston-Cambridge-Newton   MA    77744510.0          929.0  \n",
      "10     New York-Newark-Jersey City   NY   295764100.0         3959.0  \n",
      "33     Dallas-Fort Worth-Arlington   TX     8532753.0          137.0  \n",
      "45    Indianapolis-Carmel-Anderson   IN    25032620.0          421.0  \n",
      "71                        Columbus   OH    28839870.0          527.0  \n"
     ]
    },
    {
     "name": "stderr",
     "output_type": "stream",
     "text": [
      "/opt/anaconda3/lib/python3.7/site-packages/ipykernel_launcher.py:1: SettingWithCopyWarning: \n",
      "A value is trying to be set on a copy of a slice from a DataFrame.\n",
      "Try using .loc[row_indexer,col_indexer] = value instead\n",
      "\n",
      "See the caveats in the documentation: https://pandas.pydata.org/pandas-docs/stable/user_guide/indexing.html#returning-a-view-versus-a-copy\n",
      "  \"\"\"Entry point for launching an IPython kernel.\n"
     ]
    }
   ],
   "source": [
    "df_gdp6[\"grant_per_gdp\"] = df_gdp6[\"total_grant\"] // df_gdp6[\"gdp_per_capita\"]\n",
    "print(df_gdp6)"
   ]
  },
  {
   "cell_type": "code",
   "execution_count": 368,
   "id": "35746318",
   "metadata": {
    "scrolled": true
   },
   "outputs": [
    {
     "name": "stderr",
     "output_type": "stream",
     "text": [
      "/opt/anaconda3/lib/python3.7/site-packages/ipykernel_launcher.py:4: SettingWithCopyWarning: \n",
      "A value is trying to be set on a copy of a slice from a DataFrame.\n",
      "Try using .loc[row_indexer,col_indexer] = value instead\n",
      "\n",
      "See the caveats in the documentation: https://pandas.pydata.org/pandas-docs/stable/user_guide/indexing.html#returning-a-view-versus-a-copy\n",
      "  after removing the cwd from sys.path.\n"
     ]
    }
   ],
   "source": [
    "city = ['San Francisco', 'Boston', 'New York', 'Dallas','Indianapolis','Columbus']\n",
    "\n",
    "# equating it to the list\n",
    "df_gdp6['city'] = city\n"
   ]
  },
  {
   "cell_type": "code",
   "execution_count": 369,
   "id": "7a2f504e",
   "metadata": {},
   "outputs": [
    {
     "name": "stdout",
     "output_type": "stream",
     "text": [
      "                                metro_area  gdp_per_capita  \\\n",
      "2      San Francisco-Oakland-Berkeley, CA        110942.96   \n",
      "5          Boston-Cambridge-Newton, MA-NH         83596.75   \n",
      "10  New York-Newark-Jersey City, NY-NJ-PA         74689.26   \n",
      "33        Dallas-Fort Worth-Arlington, TX         62255.63   \n",
      "45       Indianapolis-Carmel-Anderson, IN         59322.19   \n",
      "71                           Columbus, OH         54708.92   \n",
      "\n",
      "                        Metro_area State  total_grant  grant_per_gdp  \\\n",
      "2   San Francisco-Oakland-Berkeley   CA    62937510.0          567.0   \n",
      "5          Boston-Cambridge-Newton   MA    77744510.0          929.0   \n",
      "10     New York-Newark-Jersey City   NY   295764100.0         3959.0   \n",
      "33     Dallas-Fort Worth-Arlington   TX     8532753.0          137.0   \n",
      "45    Indianapolis-Carmel-Anderson   IN    25032620.0          421.0   \n",
      "71                        Columbus   OH    28839870.0          527.0   \n",
      "\n",
      "             city  \n",
      "2   San Francisco  \n",
      "5          Boston  \n",
      "10       New York  \n",
      "33         Dallas  \n",
      "45   Indianapolis  \n",
      "71       Columbus  \n"
     ]
    }
   ],
   "source": [
    "print(df_gdp6)"
   ]
  },
  {
   "cell_type": "code",
   "execution_count": 371,
   "id": "6f67fbcc",
   "metadata": {},
   "outputs": [],
   "source": [
    "df_gdp6.to_csv('df_gdp_grant1.csv')"
   ]
  },
  {
   "cell_type": "code",
   "execution_count": null,
   "id": "95012348",
   "metadata": {},
   "outputs": [],
   "source": []
  }
 ],
 "metadata": {
  "kernelspec": {
   "display_name": "Python 3 (ipykernel)",
   "language": "python",
   "name": "python3"
  },
  "language_info": {
   "codemirror_mode": {
    "name": "ipython",
    "version": 3
   },
   "file_extension": ".py",
   "mimetype": "text/x-python",
   "name": "python",
   "nbconvert_exporter": "python",
   "pygments_lexer": "ipython3",
   "version": "3.7.4"
  }
 },
 "nbformat": 4,
 "nbformat_minor": 5
}
